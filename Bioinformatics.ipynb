{
  "cells": [
    {
      "cell_type": "markdown",
      "metadata": {
        "id": "view-in-github",
        "colab_type": "text"
      },
      "source": [
        "<a href=\"https://colab.research.google.com/github/vuke123/Data-processing/blob/main/Bioinformatics.ipynb\" target=\"_parent\"><img src=\"https://colab.research.google.com/assets/colab-badge.svg\" alt=\"Open In Colab\"/></a>"
      ]
    },
    {
      "cell_type": "markdown",
      "metadata": {
        "id": "3T-0ApV462gi"
      },
      "source": [
        "# Obrada informacija\n",
        "\n",
        "## Laboratorijska vježba 2\n",
        "\n",
        "U ovoj vježbi upoznat ćete se s jednom primjenom tehnika obrade informacija u bioinformatici. Ova laboratorijska vježba nosi 4 boda. Izvješće s ove laboratorijske vježbe potrebno je predati u .pdf formatu na *Moodle*. Izvješće koje predajete se mora zvati *PrezimeIme.pdf*. \n",
        "\n",
        "Osim biblioteka za rad s Fourierovom transformacijom (koristit ćemo samo numpy) koristit ćemo i biblioteku biopython koja sadrži puno korisnih alata iz područja bioinformatike. Mi ćemo je koristiti za jednostavnije baratanje bioinformatičkim tipovima podataka.\n",
        "\n",
        "Biblioteka biopython dolazi s instalacijom Anaconde, ali ju je potrebno uključiti u okolinu (*environment*) koja se koristi.\n",
        "\n",
        "Ako vježbu izvodite u Google Colab okruženju, morate instalirati biblioteku biopython. Instalaciju je potrebno izvršiti u sklopu prvog zadatka ove laboratorijske vježbe. Instalaciju izvodite sljedećim kodom: \n",
        "\n",
        "    try:\n",
        "      import google.colab\n",
        "      !pip install biopython\n",
        "    except ImportError:\n",
        "      pass\n",
        "\n",
        "Nakon izvođenja ovog koda, možete učitati biopython biblioteku. "
      ]
    },
    {
      "cell_type": "markdown",
      "metadata": {
        "id": "sDnAktLV62gk"
      },
      "source": [
        "1. Zadatak\n",
        "\n",
        "Python biblioteke potrebne za laboratorijske vježbe su numpy i biopython. Uključite ih (\"importirajte\") i ispišite verziju svake od njih pomoću \\[ime_biblioteke\\].__version__.\n",
        "\n",
        "UPUTA: Osnovna biopython biblioteka ima naziv Bio."
      ]
    },
    {
      "cell_type": "code",
      "execution_count": 5,
      "metadata": {
        "colab": {
          "base_uri": "https://localhost:8080/"
        },
        "id": "zr1maIcq62gm",
        "outputId": "c5854dc9-616a-4795-f093-72fcf9aa434a"
      },
      "outputs": [
        {
          "output_type": "stream",
          "name": "stdout",
          "text": [
            "Looking in indexes: https://pypi.org/simple, https://us-python.pkg.dev/colab-wheels/public/simple/\n",
            "Collecting biopython\n",
            "  Downloading biopython-1.80-cp38-cp38-manylinux_2_17_x86_64.manylinux2014_x86_64.whl (3.1 MB)\n",
            "\u001b[K     |████████████████████████████████| 3.1 MB 4.3 MB/s \n",
            "\u001b[?25hRequirement already satisfied: numpy in /usr/local/lib/python3.8/dist-packages (from biopython) (1.21.6)\n",
            "Installing collected packages: biopython\n",
            "Successfully installed biopython-1.80\n"
          ]
        }
      ],
      "source": [
        "try:\n",
        "  import google.colab\n",
        "  !pip install biopython\n",
        "except ImportError:\n",
        "  pass \n",
        "\n"
      ]
    },
    {
      "cell_type": "markdown",
      "metadata": {
        "id": "B2yvoqWo62gu"
      },
      "source": [
        "2. Zadatak\n",
        "\n",
        "Uz laboratorijske vježbe dobili ste dvije datoteke s podacima. Datoteku koja sadrži referentni genom jednog soja bakterije  Escherichia coli (escherichia_coli_reference.fasta) u FASTA formatu i datoteku koja sadrži skup očitanja dobivenih sekvenciranjem (ecoli_ILL_small.fastq) u FASTQ formatu.\n",
        "\n",
        "Datoteke možete učitati koristeći metodu _parse()_ iz biblioteke Bio.SeqIO. Metoda _parse()_ vraća iterator koji možete pretvoriti u Python listu na sljedeći način:\n",
        "\n",
        "    reads = list(parse(\"ime_datoteke\", \"tip_datoteke\"))\n",
        "\n",
        "Tip datoteke postavite na \"fasta\" ili \"fastq\".\n",
        "\n",
        "Učitajte obje datoteke te ispišite broj zapisa u svakoj od njih (broj elemenata u listi). Datoteka koja sadrži referencu trebala bi imati samo jedan zapis, dok bi datoteka s očitanjima trebala sadržavati veći broj zapisa.\n",
        "\n",
        "NAPOMENA: Ako niste sigurni kako pronaći datoteke na disku iz Jupyter notebook-a, uvijek možete provjeriti radni direktorij sljedećim naredbama:\n",
        "\n",
        "    import os\n",
        "    os.getcwd()\n",
        "\n",
        "i promijeniti ga sa:\n",
        "\n",
        "    os.chdir()\n",
        "\n",
        "Ako pak radite u Google Colab okruženju, koristite upute za učitavanje datoteka s Google diska iz prve laboratorijske vježbe. "
      ]
    },
    {
      "cell_type": "code",
      "execution_count": 6,
      "metadata": {
        "id": "ElOkPx1PRc3G",
        "colab": {
          "base_uri": "https://localhost:8080/"
        },
        "outputId": "7a645119-fa93-4cd5-98f0-ce7323cb52cd"
      },
      "outputs": [
        {
          "output_type": "stream",
          "name": "stdout",
          "text": [
            "<module 'numpy.version' from '/usr/local/lib/python3.8/dist-packages/numpy/version.py'>\n",
            "1.80\n"
          ]
        }
      ],
      "source": [
        "import numpy as np, Bio\n",
        "print(np.version)\n",
        "print(Bio.__version__)"
      ]
    },
    {
      "cell_type": "code",
      "execution_count": 7,
      "metadata": {
        "colab": {
          "base_uri": "https://localhost:8080/"
        },
        "id": "noYQI7AM-mTa",
        "outputId": "bc062f1d-9af3-43ea-9c30-592996bba11a"
      },
      "outputs": [
        {
          "output_type": "stream",
          "name": "stdout",
          "text": [
            "Mounted at /content/drive\n"
          ]
        }
      ],
      "source": [
        "from google.colab import drive\n",
        "drive.mount('/content/drive')"
      ]
    },
    {
      "cell_type": "code",
      "execution_count": 8,
      "metadata": {
        "id": "UAmQybc1-VLW"
      },
      "outputs": [],
      "source": [
        "import os \n",
        "os.getcwd()\n",
        "from Bio import SeqIO"
      ]
    },
    {
      "cell_type": "code",
      "execution_count": 9,
      "metadata": {
        "colab": {
          "base_uri": "https://localhost:8080/"
        },
        "id": "01o1L5QOwHV3",
        "outputId": "cd25fb20-1dd6-4a40-d3d8-79132f8c7359"
      },
      "outputs": [
        {
          "output_type": "stream",
          "name": "stdout",
          "text": [
            "Duljina liste ocitanja -> 38585\n",
            "Duljina liste za referentni genom -> 1\n"
          ]
        }
      ],
      "source": [
        "reference = list(SeqIO.parse(\"drive/My Drive/Colab Notebooks/escherichia_coli_reference.fasta\", \"fasta\"))\n",
        "sample = list(SeqIO.parse(\"drive/My Drive/Colab Notebooks/ecoli_ILL_small.fastq\", \"fastq\"))\n",
        "print('Duljina liste ocitanja -> ' + str(len(sample)))\n",
        "print('Duljina liste za referentni genom -> ' + str(len(reference)))"
      ]
    },
    {
      "cell_type": "markdown",
      "metadata": {
        "id": "sduVaxZd-lLs"
      },
      "source": []
    },
    {
      "cell_type": "markdown",
      "metadata": {
        "id": "szNf-DeN62g1"
      },
      "source": [
        "3. Zadatak\n",
        "\n",
        "Svaki zapis koji ste učitali pomoću metode _Bio.SeqIO.parse()_ sadrži Veći broj podataka od kojih su nam bitni samo neki. Naredbom print ispišite cijeli prvi zapis iz datoteke s očitanjima i iz datoteke s referencom.\n",
        "\n",
        "Vidjet ćete da oba zapisa (među ostalim podacima) sadrže identifikator zapisa i sekvencu. Identifikator zapisa možete dohvatiti pomoću\n",
        "\n",
        "    zapis.id\n",
        "\n",
        "dok sekvencu možete dohvatiti pomoću\n",
        "\n",
        "    zapis.seq\n",
        "\n",
        "Ispišite identifikator i sekvencu za prvo očitanje te identifikator i prvih 200 znakova za referentni genom E.coli.\n",
        "\n",
        "NAPOMENA: Referentni genom Escherichia coli je dugačak oko 4.5 milijuna slova"
      ]
    },
    {
      "cell_type": "code",
      "execution_count": 10,
      "metadata": {
        "colab": {
          "base_uri": "https://localhost:8080/"
        },
        "id": "uJhYsfdg62g2",
        "outputId": "1e890d76-600b-4423-e4fd-5f4bceeda4a4"
      },
      "outputs": [
        {
          "output_type": "stream",
          "name": "stdout",
          "text": [
            "Cijeli prvi zapis iz datoteke s referencom ->  ID: NC_000913.3\n",
            "Name: NC_000913.3\n",
            "Description: NC_000913.3 Escherichia coli str. K-12 substr. MG1655, complete genome\n",
            "Number of features: 0\n",
            "Seq('AGCTTTTCATTCTGACTGCAACGGGCAATATGTCTCTGTGTGGATTAAAAAAAG...TTC')\n",
            "------------\n",
            "Cijeli prvi zapis iz datoteke s ocitanjima ->  ID: SRR2052522.671\n",
            "Name: SRR2052522.671\n",
            "Description: SRR2052522.671 HWI-EAS390_0001:4:1:6915:1123/1\n",
            "Number of features: 0\n",
            "Per letter annotation for: phred_quality\n",
            "Seq('GATCTGGTGACCGGGTCGCGCAAAGTGATCATCGCCATGGAACATTGCGCCAAA...TGC')\n"
          ]
        }
      ],
      "source": [
        "print('Cijeli prvi zapis iz datoteke s referencom -> '  , str(reference[0]))\n",
        "print('------------')\n",
        "print('Cijeli prvi zapis iz datoteke s ocitanjima -> ' , sample[0])\n"
      ]
    },
    {
      "cell_type": "code",
      "execution_count": 12,
      "metadata": {
        "colab": {
          "base_uri": "https://localhost:8080/"
        },
        "id": "-_ZV2XS0Ly8u",
        "outputId": "e2214e85-285c-405f-cc12-b63bea65a76d"
      },
      "outputs": [
        {
          "output_type": "stream",
          "name": "stdout",
          "text": [
            "Identifikator i sekvenca za prvo očitanje --> \n",
            "SRR2052522.671\n",
            "GATCTGGTGACCGGGTCGCGCAAAGTGATCATCGCCATGGAACATTGCGCCAAAGATGGTTCAGCAAAAATTTTGGGCCTCTGTATCATGCCACTCACTGCGCAATATCCGGATCAAATGC\n",
            "Identifikator i prvih 200 znakova za genom E.coli ---> \n",
            "NC_000913.3\n",
            "AGCTTTTCATTCTGACTGCAACGGGCAATATGTCTCTGTGTGGATTAAAAAAAGAGTGTCTGATAGCAGCTTCTGAACTGGTTACCTGCCGTGAGTAAATTAAAATTTTATTGACTTAGGTCACTAAATACTTTAACCAATATAGGCATAGCGCACAGACAGATAAAAATTACAGAGTACACAACATCCATGAAACGCAT\n"
          ]
        }
      ],
      "source": [
        "print('Identifikator i sekvenca za prvo očitanje --> ') \n",
        "sample1_ID = sample[0].id\n",
        "print(sample1_ID)\n",
        "print(sample[0].seq)\n",
        "print('Identifikator i prvih 200 znakova za genom E.coli ---> ')\n",
        "print(reference[0].id)\n",
        "print(reference[0].seq[0:200])"
      ]
    },
    {
      "cell_type": "markdown",
      "metadata": {
        "id": "rGr9V2i262g8"
      },
      "source": [
        "4. Zadatak\n",
        "\n",
        "Da bismo sekvence DNA analizirali metodama obrade signala, moramo pojednim nukleotidima (slovima) dodijeliti brojčane vrijednosti. Napišite funkciju u Pythonu koja će primiti slovo koje predstavlja nukleotid i vratiti odgovarajuću brojčanu vrijednost. Vrijednosti dodijelite na sljedeći način:\n",
        "\n",
        "- A =  3\n",
        "- G =  2\n",
        "- C = -2\n",
        "- T = -3\n",
        "\n",
        "DNA sekvence mogu sadržavati i neke druge znakove (npr. 'N' koji označava da taj nuklotid nije poznat), njima dodijelite vrijednost 0. Također se može dogoditi da nukleotidi budu označeni i malim slovima, pa vodite računa da vaša funkcija mora vratiti ispravnu vrijendost i u tom slučaju."
      ]
    },
    {
      "cell_type": "code",
      "execution_count": 13,
      "metadata": {
        "id": "C25vmeTs62g-"
      },
      "outputs": [],
      "source": [
        "def returnValue(letter): \n",
        "    if letter == 'A' or letter == 'a':\n",
        "      return 3\n",
        "    elif letter == 'G' or letter == 'g':\n",
        "      return 2\n",
        "    elif letter == 'C' or letter == 'c':\n",
        "      return -2\n",
        "    elif letter == 'T' or letter == 't':\n",
        "      return -3\n",
        "    else:\n",
        "      return 0"
      ]
    },
    {
      "cell_type": "code",
      "execution_count": 14,
      "metadata": {
        "colab": {
          "base_uri": "https://localhost:8080/"
        },
        "id": "xCZx8_DX6ZTM",
        "outputId": "83ea2e00-07ee-4cca-b69c-96db7d18f648"
      },
      "outputs": [
        {
          "output_type": "stream",
          "name": "stdout",
          "text": [
            "<class 'Bio.Seq.Seq'>\n",
            "----\n",
            "<class 'Bio.Seq.Seq'>\n"
          ]
        }
      ],
      "source": [
        "print(type(sample[0].seq))\n",
        "print('----')\n",
        "print(type(reference[0].seq[0:200]))"
      ]
    },
    {
      "cell_type": "markdown",
      "metadata": {
        "id": "AYPQrVck62hD"
      },
      "source": [
        "5. Zadatak\n",
        "\n",
        "Upotrebite napisanu funkciju da bi od prvog očitanja i od reference kreirali signal. Izračunajte korelaciju pomoću Fourierove transformacije. Zanemarite imaginarne vrijednosti."
      ]
    },
    {
      "cell_type": "code",
      "execution_count": 15,
      "metadata": {
        "colab": {
          "base_uri": "https://localhost:8080/"
        },
        "id": "7kxDSpto62hF",
        "outputId": "40518349-11be-4603-b9c4-b520683c1a82"
      },
      "outputs": [
        {
          "output_type": "stream",
          "name": "stdout",
          "text": [
            "Korelacija -> \n",
            "[-0.61538462-4.88498131e-15j -1.84615385-3.62323912e-15j\n",
            " -1.38461538+7.34221076e-15j ... -0.15384615-4.71707354e-17j\n",
            "  0.30769231+6.55936279e-15j -0.92307692-2.69980402e-15j]\n"
          ]
        },
        {
          "output_type": "execute_result",
          "data": {
            "text/plain": [
              "numpy.ndarray"
            ]
          },
          "metadata": {},
          "execution_count": 15
        }
      ],
      "source": [
        "x1 = [returnValue(s) for s in sample[0].seq]\n",
        "x2 = [returnValue(s) for s in reference[0].seq]\n",
        "len1 = len(x1)\n",
        "len2 = len(x2)\n",
        "array = [3,2,-2,-3]\n",
        "k_arr = range(-len2+1,len1)\n",
        "padding1 = [0]*(len2-1)\n",
        "padding2 = [0]*(len1-1)\n",
        "avg = np.average(array)\n",
        "std = np.std(array)\n",
        "x1 = [(x-avg)/std for x in x1]\n",
        "x2 = [(x-avg)/std for x in x2]\n",
        "X1 = np.fft.fft(padding1+x1)\n",
        "X2 = np.fft.fft(x2+padding2)\n",
        "Cor = np.conjugate(X2)*X1\n",
        "cor = np.fft.ifft(Cor)\n",
        "print('Korelacija -> ')\n",
        "print(cor)\n",
        "cor1 = cor\n",
        "type(cor)"
      ]
    },
    {
      "cell_type": "markdown",
      "metadata": {
        "id": "nftB8Mj062hK"
      },
      "source": [
        "6. Zadatak\n",
        "\n",
        "Ispišite duljinu reference. Koristeći metode biblioteke _numpy_, izračunajte srednju vrijednost i standardnu devijaciju duljine očitanja (uzmite u obzir sva očitanja).\n",
        "\n",
        "Primijetit ćete da su sva očitanja jednake duljine."
      ]
    },
    {
      "cell_type": "code",
      "execution_count": 17,
      "metadata": {
        "colab": {
          "base_uri": "https://localhost:8080/"
        },
        "id": "3xxUhQ9WUJDu",
        "outputId": "a6e0b2a3-379c-43fd-fa61-c7c143134e8f"
      },
      "outputs": [
        {
          "output_type": "stream",
          "name": "stdout",
          "text": [
            "4641652\n"
          ]
        }
      ],
      "source": [
        "print(len(x2))\n",
        "sample_seqs = [y.seq for y in sample]\n",
        "type(sample_seqs[0])\n",
        "sample_length = []\n",
        "for x in sample_seqs: \n",
        "  sample_length.append(len(x))"
      ]
    },
    {
      "cell_type": "code",
      "execution_count": 19,
      "metadata": {
        "colab": {
          "base_uri": "https://localhost:8080/"
        },
        "id": "pSI7dEKd62hL",
        "outputId": "505e8038-76c8-4daf-8a3e-db7e8924c49d"
      },
      "outputs": [
        {
          "output_type": "stream",
          "name": "stdout",
          "text": [
            "121.0\n",
            "0.0\n"
          ]
        }
      ],
      "source": [
        "sample_mean = np.mean(sample_length)\n",
        "sample_stdev = np.std(sample_length)\n",
        "print(sample_mean)\n",
        "print(sample_stdev)"
      ]
    },
    {
      "cell_type": "markdown",
      "metadata": {
        "id": "y6A6sHAQ62hS"
      },
      "source": [
        "7. zadatak\n",
        "\n",
        "Što ako želimo izračunati korelaciju za veći broj očitanja i istu referencu? To je tipičan slučaj u bioinformatici jer uređaji za sekvenciranje proizvode tisuće i desetke tisuća očitanja koja se potom mapiraju na istu referencu.\n",
        "\n",
        "Ako korelaciju računamo izravno, potrebno ju je svaki put izračunati iz početka. Ako korelaciju računamo pomoću FFT-a, transformaciju za referencu potrebno je napraviti samo jednom.\n",
        "\n",
        "Izračunajte korelacije za prvih 10 očitanja."
      ]
    },
    {
      "cell_type": "code",
      "source": [
        "def calcCor(some_sample):\n",
        "  x1 = [returnValue(s) for s in some_sample.seq]\n",
        "  x1 = [(x-avg)/std for x in x1]\n",
        "  X1 = np.fft.fft(padding1+x1)\n",
        "  Cor = np.conjugate(X2)*X1\n",
        "  cor = np.fft.ifft(Cor)\n",
        "  return cor"
      ],
      "metadata": {
        "id": "L1HEPbkg9Lw8"
      },
      "execution_count": 23,
      "outputs": []
    },
    {
      "cell_type": "code",
      "execution_count": 28,
      "metadata": {
        "colab": {
          "base_uri": "https://localhost:8080/"
        },
        "id": "F8mSvUQb62hT",
        "outputId": "3688b3c7-3a5d-4a16-ddc0-8f50a043f1f8"
      },
      "outputs": [
        {
          "output_type": "stream",
          "name": "stdout",
          "text": [
            "Korelacija(0) -->\n",
            "[-0.61538462-4.88498131e-15j -1.84615385-3.62323912e-15j\n",
            " -1.38461538+7.34221076e-15j ... -0.15384615-4.71707354e-17j\n",
            "  0.30769231+6.55936279e-15j -0.92307692-2.69980402e-15j]\n",
            "Korelacija(1) -->\n",
            "[-9.23076923e-01-8.88178420e-16j -2.00000000e+00-1.70998183e-14j\n",
            " -1.38461538e+00+9.56266697e-15j ... -2.92307692e+00-9.33386601e-15j\n",
            "  1.33232053e-15-1.95399216e-14j  1.38461538e+00+6.04808936e-15j]\n",
            "Korelacija(2) -->\n",
            "[-0.61538462-3.55271368e-15j -1.53846154-3.31542756e-15j\n",
            " -2.76923077+2.69404165e-15j ... -1.69230769-5.18900854e-16j\n",
            " -2.        -5.33240613e-15j -0.92307692-1.18036207e-14j]\n",
            "Korelacija(3) -->\n",
            "[-0.92307692+7.21644966e-15j -0.76923077+9.00042620e-15j\n",
            " -1.38461538+3.34536806e-15j ... -0.92307692+2.38142635e-15j\n",
            " -0.46153846-9.57269415e-16j  1.38461538-5.72027512e-15j]\n",
            "Korelacija(4) -->\n",
            "[-9.23076923e-01+7.10542736e-15j -7.69230769e-01+1.34413178e-14j\n",
            "  1.53846154e-01+2.39147206e-15j ... -2.46153846e+00-1.64287800e-15j\n",
            "  6.66139465e-15-2.08721748e-14j  1.38461538e+00-5.72025998e-15j]\n",
            "Korelacija(5) -->\n",
            "[-0.92307692-5.55111512e-15j -2.        -2.24443826e-16j\n",
            " -3.23076923-4.03639998e-15j ...  1.38461538+8.86218894e-15j\n",
            "  1.53846154+6.15147768e-15j  0.92307692+1.81161977e-15j]\n",
            "Korelacija(6) -->\n",
            "[ 6.15384615e-01-1.24344979e-14j  4.44088909e-15+4.44089510e-15j\n",
            " -1.38461538e+00+1.40035464e-14j ...  2.46153846e+00+1.03026396e-14j\n",
            "  7.69230769e-01+1.52144185e-15j -9.23076923e-01-7.14070173e-15j]\n",
            "Korelacija(7) -->\n",
            "[ 0.92307692-7.99360578e-15j  0.76923077+1.05394879e-14j\n",
            "  1.38461538+2.07298608e-16j ... -1.07692308-4.32706188e-15j\n",
            "  2.        +1.24378437e-14j  0.92307692-1.32874106e-14j]\n",
            "Korelacija(8) -->\n",
            "[-0.92307692+5.77315973e-15j -2.30769231+1.10140632e-14j\n",
            " -1.84615385-1.31549883e-14j ... -1.38461538+7.34702995e-15j\n",
            " -2.30769231+1.03126160e-14j -1.38461538+4.38800040e-15j]\n",
            "Korelacija(9) -->\n",
            "[-0.92307692-1.55431223e-14j -0.46153846+1.17507333e-14j\n",
            " -0.92307692+2.74836992e-15j ...  0.92307692-1.48160538e-14j\n",
            " -1.53846154+5.83892675e-15j -0.92307692+1.51904231e-15j]\n"
          ]
        }
      ],
      "source": [
        "list_of_cor = map(calcCor, sample[0:10])\n",
        "\n",
        "for i, cor in enumerate(list_of_cor): \n",
        "  print(\"Korelacija(\"+ str(i) + \") -->\")\n",
        "  print(cor)"
      ]
    },
    {
      "cell_type": "markdown",
      "metadata": {
        "id": "y4Cme55c62hb"
      },
      "source": [
        "8. zadatak\n",
        "\n",
        "Na temelju najveće vrijednosti korelacije između reference i prvog očitanja pronađite poziciju na referenci koja je najsličnija očitanju. Pozicija odgovara vrijednosti parametra k za koji je korelacija najveća.\n",
        "\n",
        "Napišite metodu koja će primiti dva niza znakova jednake duljine, usporediti znakove na istim pozicijama i vratiti broj razlika (Hammingova udaljenost).\n",
        "\n",
        "\"Izrežite\" dio reference koji je najsličniji očitanju (iste duljine kao i očitanje) i usporedite ga s očitanjem pomoću napisane funkcije."
      ]
    },
    {
      "cell_type": "code",
      "execution_count": 29,
      "metadata": {
        "colab": {
          "base_uri": "https://localhost:8080/"
        },
        "id": "Yu0fsZUt62hc",
        "outputId": "00e4fa9f-9f5f-4953-f1ba-ef787469aa3d"
      },
      "outputs": [
        {
          "output_type": "stream",
          "name": "stdout",
          "text": [
            "k=-2324486\n",
            "9\n"
          ]
        }
      ],
      "source": [
        "k = k_arr[cor1.argmax()]\n",
        "print(\"k={}\".format(k))\n",
        "\n",
        "def hamming_distance(niz1, niz2): \n",
        "  diff = 0\n",
        "  for n in range(len(niz1)):\n",
        "      if niz1[n] != niz2[n]:\n",
        "         diff = diff + 1\n",
        "  return diff\n",
        "\n",
        "x1 = [returnValue(s) for s in sample[0].seq]\n",
        "x2 = [returnValue(s) for s in reference[0].seq]\n",
        "x2_trimmed = x2[abs(k):abs(k) + len(x1)]\n",
        "print(hamming_distance(x1, x2_trimmed))\n"
      ]
    },
    {
      "cell_type": "markdown",
      "metadata": {
        "id": "k7Ne7pfy62hh"
      },
      "source": [
        "9. zadatak\n",
        "\n",
        "U datoteci \"ecoli_ILL_small_aln.sam\" dana su već izračunata poravnanja svih očitanja na referencu u SAM formatu. SAM je tekstualni \"tab separated\" format. U prvom stupcu se nalati identifikator očitanja, dok se u četvrtom stupcu nalazi pozicija na referenci na koju je očitanje najbolje poravnato (ostali stupci nas ne zanimaju). Također, datoteka s poravnanjima sadrži i nekoliko _header_ readaka kojima prvi stupac počinje sa znakom '@', njih također možete zanemariti.\n",
        "\n",
        "Otvorite datoteku s poravnanjima i pronađite poravnanje za prvo očitanje (identifikator očitanja u datoteci s očitanjima i datoteci s poravnanjima mora biti jednak). Usporedite poziciju u datoteci sa pozicijom koju ste dobili pomoću korelacije.\n",
        "\n",
        "UPOUTA: TSV datoteke možete otvoriti na sljedeći način:\n",
        "\n",
        "    tsv_file = open(\"file_name\")\n",
        "    tsv_rows = csv.reader(tsv_file, delimiter=\"\\t\")\n",
        "\n",
        "Varijabla _tsv\\_rows_ će sadržavati listu redaka, a svaki redak biti lista vrijednosti (po jedna za svaki stupac)."
      ]
    },
    {
      "cell_type": "code",
      "execution_count": 30,
      "metadata": {
        "colab": {
          "base_uri": "https://localhost:8080/"
        },
        "id": "s4dMPoJR62hi",
        "outputId": "f5eca87e-93b2-4b8e-a2ef-fb06a643d14e",
        "scrolled": true
      },
      "outputs": [
        {
          "output_type": "stream",
          "name": "stdout",
          "text": [
            "---------------\n",
            "Pozicija u datoteci -->  2324487\n",
            "Za prvo očitanje pozicija dobivena pomoću korelacije je 2324486, dok je pozicija u datoteci s poravnanjima 2324487. Razlikuju se samo za 1 pa možemo zaključiti da nam je korelacija dala dobru poziciju za poravnanje.\n"
          ]
        }
      ],
      "source": [
        "import csv\n",
        "tsv_file = open(\"drive/My Drive/Colab Notebooks/ecoli_ILL_small_aln.sam\")\n",
        "tsv_rows = csv.reader(tsv_file, delimiter=\"\\t\")\n",
        "for row in tsv_rows: \n",
        "  if row[0] == sample1_ID:\n",
        "    first_row = row\n",
        "    break\n",
        "\n",
        "\n",
        "print(\"---------------\")\n",
        "print(\"Pozicija u datoteci --> \", first_row[3])  \n",
        "print(\"Za prvo očitanje pozicija dobivena pomoću korelacije je 2324486, dok je pozicija u datoteci s poravnanjima 2324487. Razlikuju se samo za 1 pa možemo zaključiti da nam je korelacija dala dobru poziciju za poravnanje.\")"
      ]
    },
    {
      "cell_type": "code",
      "execution_count": null,
      "metadata": {
        "id": "IM9WHbfI1HxE"
      },
      "outputs": [],
      "source": []
    },
    {
      "cell_type": "markdown",
      "metadata": {
        "id": "fdVXO79s62ho"
      },
      "source": [
        "10. zadatak\n",
        "\n",
        "Za prvo očitanje pozicija dobivena pomoću korelacije trabala bi biti 2324486, dok je pozicija u datoteci s poravnanjima 2324487. Razlikuju se samo za 1 pa možemo zaključiti da nam je korelacija dala dobru poziciju za poravnanje.\n",
        "\n",
        "Prisjetimo se da korelacija ne računa točno poravnanje već ju koristimo samo da bi našli kandidatne pozicije za točno računanje. Tek onda na takvim pozicijama možemo točno poravnanje izračunati pomoću algoritama dinamičkog programiranja. Ako bi primijenili dinamičko programiranje za računanje poravnanja očitanja s cijelom referencom, postupak bi bio znatno sporiji i zahtijevao bi veliku količinu radne memorije.\n",
        "\n",
        "**Ako želite** to možete isprobati pomoću algoritama za poravnanje u biblioteci _bioparser_. Lokalno poravnanje možete izračunati metodom:\n",
        "\n",
        "    Bio.pairwise2.align.localxx(seq1, seq2)\n",
        "\n",
        "Za prvih 100 očitanja izračunajte korelaciju te pomoću korelacije poziciju najveće sličnosti očitanja i reference. Usporedite rezultat sa podacima u datoteci s poravnanjima. Ispišite broj očitanja za koja se dvije pozicije razlikuju za najviše 5 mjesta."
      ]
    },
    {
      "cell_type": "code",
      "execution_count": 32,
      "metadata": {
        "colab": {
          "base_uri": "https://localhost:8080/"
        },
        "id": "g-f-TyxR62hp",
        "outputId": "f33045b6-365d-44e1-d09f-1812a18b03b1"
      },
      "outputs": [
        {
          "output_type": "stream",
          "name": "stdout",
          "text": [
            "Broj ocitanja za koje se pozicije razliku za max 5 mjesta -->  0\n"
          ]
        }
      ],
      "source": [
        "sum = 0\n",
        "first100k = {} \n",
        "\n",
        "for n in range(100): \n",
        "  cor = calcCor(sample[n])\n",
        "  first100k[sample[n].id] = k_arr[cor.argmax()]\n",
        "\n",
        "for row in tsv_rows: \n",
        "   id = row[0]\n",
        "   if(id in first100k.keys()):\n",
        "     if (abs(int(row[3]) - first100k[id]) < 6 ): \n",
        "       sum = sum + 1\n",
        "       \n",
        "print(\"Broj ocitanja za koje se pozicije razliku za max 5 mjesta --> \", sum)  \n"
      ]
    }
  ],
  "metadata": {
    "colab": {
      "provenance": [],
      "include_colab_link": true
    },
    "kernelspec": {
      "display_name": "Python 3",
      "language": "python",
      "name": "python3"
    },
    "language_info": {
      "codemirror_mode": {
        "name": "ipython",
        "version": 3
      },
      "file_extension": ".py",
      "mimetype": "text/x-python",
      "name": "python",
      "nbconvert_exporter": "python",
      "pygments_lexer": "ipython3",
      "version": "3.8.3"
    }
  },
  "nbformat": 4,
  "nbformat_minor": 0
}