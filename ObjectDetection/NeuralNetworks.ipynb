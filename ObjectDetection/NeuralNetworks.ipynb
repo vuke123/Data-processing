{
  "nbformat": 4,
  "nbformat_minor": 0,
  "metadata": {
    "kernelspec": {
      "display_name": "Python 3",
      "language": "python",
      "name": "python3"
    },
    "language_info": {
      "codemirror_mode": {
        "name": "ipython",
        "version": 3
      },
      "file_extension": ".py",
      "mimetype": "text/x-python",
      "name": "python",
      "nbconvert_exporter": "python",
      "pygments_lexer": "ipython3",
      "version": "3.6.9"
    },
    "colab": {
      "provenance": [],
      "toc_visible": true
    }
  },
  "cells": [
    {
      "cell_type": "markdown",
      "metadata": {
        "id": "qJsxY4wL8mA5"
      },
      "source": [
        "# Laboratorijska vježba - Obrada informacija - Neuronske mreže"
      ]
    },
    {
      "cell_type": "code",
      "metadata": {
        "id": "ZSE31EGe8mBC"
      },
      "source": [
        "import torch\n",
        "import torch.nn as nn\n",
        "import torchvision\n",
        "import torch.nn.functional as F\n",
        "import torch.optim as optim\n",
        "from torch.utils.data import TensorDataset, Dataset, DataLoader\n",
        "\n",
        "from torchsummary import summary\n",
        "\n",
        "import cv2\n",
        "import numpy as np\n",
        "import matplotlib.pyplot as plt"
      ],
      "execution_count": null,
      "outputs": []
    },
    {
      "cell_type": "code",
      "metadata": {
        "id": "shvVCyvZsUBY",
        "colab": {
          "base_uri": "https://localhost:8080/"
        },
        "outputId": "cfab066a-4c50-453d-d163-8399253fa7f5"
      },
      "source": [
        "!pip install torch==1.7.1+cpu torchvision==0.8.2+cpu torchaudio===0.7.2 -f https://download.pytorch.org/whl/torch_stable.html\n",
        "!pip install torchsummary\n",
        "!pip install numpy matplotlib opencv-python"
      ],
      "execution_count": null,
      "outputs": [
        {
          "output_type": "stream",
          "name": "stdout",
          "text": [
            "Looking in indexes: https://pypi.org/simple, https://us-python.pkg.dev/colab-wheels/public/simple/\n",
            "Looking in links: https://download.pytorch.org/whl/torch_stable.html\n",
            "Collecting torch==1.7.1+cpu\n",
            "  Downloading https://download.pytorch.org/whl/cpu/torch-1.7.1%2Bcpu-cp38-cp38-linux_x86_64.whl (159.4 MB)\n",
            "\u001b[2K     \u001b[90m━━━━━━━━━━━━━━━━━━━━━━━━━━━━━━━━━━━━━━━\u001b[0m \u001b[32m159.4/159.4 MB\u001b[0m \u001b[31m6.0 MB/s\u001b[0m eta \u001b[36m0:00:00\u001b[0m\n",
            "\u001b[?25hCollecting torchvision==0.8.2+cpu\n",
            "  Downloading https://download.pytorch.org/whl/cpu/torchvision-0.8.2%2Bcpu-cp38-cp38-linux_x86_64.whl (11.9 MB)\n",
            "\u001b[2K     \u001b[90m━━━━━━━━━━━━━━━━━━━━━━━━━━━━━━━━━━━━━━━━\u001b[0m \u001b[32m11.9/11.9 MB\u001b[0m \u001b[31m60.3 MB/s\u001b[0m eta \u001b[36m0:00:00\u001b[0m\n",
            "\u001b[?25hCollecting torchaudio===0.7.2\n",
            "  Downloading torchaudio-0.7.2-cp38-cp38-manylinux1_x86_64.whl (7.6 MB)\n",
            "\u001b[2K     \u001b[90m━━━━━━━━━━━━━━━━━━━━━━━━━━━━━━━━━━━━━━━━\u001b[0m \u001b[32m7.6/7.6 MB\u001b[0m \u001b[31m43.4 MB/s\u001b[0m eta \u001b[36m0:00:00\u001b[0m\n",
            "\u001b[?25hRequirement already satisfied: numpy in /usr/local/lib/python3.8/dist-packages (from torch==1.7.1+cpu) (1.21.6)\n",
            "Requirement already satisfied: typing-extensions in /usr/local/lib/python3.8/dist-packages (from torch==1.7.1+cpu) (4.4.0)\n",
            "Requirement already satisfied: pillow>=4.1.1 in /usr/local/lib/python3.8/dist-packages (from torchvision==0.8.2+cpu) (7.1.2)\n",
            "Installing collected packages: torch, torchvision, torchaudio\n",
            "  Attempting uninstall: torch\n",
            "    Found existing installation: torch 1.13.0+cu116\n",
            "    Uninstalling torch-1.13.0+cu116:\n",
            "      Successfully uninstalled torch-1.13.0+cu116\n",
            "  Attempting uninstall: torchvision\n",
            "    Found existing installation: torchvision 0.14.0+cu116\n",
            "    Uninstalling torchvision-0.14.0+cu116:\n",
            "      Successfully uninstalled torchvision-0.14.0+cu116\n",
            "  Attempting uninstall: torchaudio\n",
            "    Found existing installation: torchaudio 0.13.0+cu116\n",
            "    Uninstalling torchaudio-0.13.0+cu116:\n",
            "      Successfully uninstalled torchaudio-0.13.0+cu116\n",
            "\u001b[31mERROR: pip's dependency resolver does not currently take into account all the packages that are installed. This behaviour is the source of the following dependency conflicts.\n",
            "torchtext 0.14.0 requires torch==1.13.0, but you have torch 1.7.1+cpu which is incompatible.\u001b[0m\u001b[31m\n",
            "\u001b[0mSuccessfully installed torch-1.7.1+cpu torchaudio-0.7.2 torchvision-0.8.2+cpu\n",
            "Looking in indexes: https://pypi.org/simple, https://us-python.pkg.dev/colab-wheels/public/simple/\n",
            "Requirement already satisfied: torchsummary in /usr/local/lib/python3.8/dist-packages (1.5.1)\n",
            "Looking in indexes: https://pypi.org/simple, https://us-python.pkg.dev/colab-wheels/public/simple/\n",
            "Requirement already satisfied: numpy in /usr/local/lib/python3.8/dist-packages (1.21.6)\n",
            "Requirement already satisfied: matplotlib in /usr/local/lib/python3.8/dist-packages (3.2.2)\n",
            "Requirement already satisfied: opencv-python in /usr/local/lib/python3.8/dist-packages (4.6.0.66)\n",
            "Requirement already satisfied: kiwisolver>=1.0.1 in /usr/local/lib/python3.8/dist-packages (from matplotlib) (1.4.4)\n",
            "Requirement already satisfied: cycler>=0.10 in /usr/local/lib/python3.8/dist-packages (from matplotlib) (0.11.0)\n",
            "Requirement already satisfied: python-dateutil>=2.1 in /usr/local/lib/python3.8/dist-packages (from matplotlib) (2.8.2)\n",
            "Requirement already satisfied: pyparsing!=2.0.4,!=2.1.2,!=2.1.6,>=2.0.1 in /usr/local/lib/python3.8/dist-packages (from matplotlib) (3.0.9)\n",
            "Requirement already satisfied: six>=1.5 in /usr/local/lib/python3.8/dist-packages (from python-dateutil>=2.1->matplotlib) (1.15.0)\n"
          ]
        }
      ]
    },
    {
      "cell_type": "markdown",
      "metadata": {
        "id": "l3WCkur18mBD"
      },
      "source": [
        "# Zadatak 1 - Klasifikacija slike rukom pisanih znamenki"
      ]
    },
    {
      "cell_type": "markdown",
      "metadata": {
        "id": "5LQFOnwx8mBD"
      },
      "source": [
        "U prvom zadatku ove laboratorijske vježbe želimo analizirati utjecaj arhitekture mreže i drugih hiperparametara na uspješnost predikcije. Vaš zadatak je složiti nekoliko modela različitih karakteristika, te će te te modele istrenirati na problemu klasifikacije rukom pisanih znamenki.\n",
        "\n",
        "Veliki dio koda koji je potreban za provođenje vježbe je dan. Vi ćete riješiti zadatak nadopunjavanjem koda. Također ste slobodni izmjeniti predloženi kod, ali ne preporuča se. Za labos je potreban Python 3.6+ i PyTorch 1.6+."
      ]
    },
    {
      "cell_type": "markdown",
      "metadata": {
        "id": "sGsPVukl8mBF"
      },
      "source": [
        "## Učitavanje podataka"
      ]
    },
    {
      "cell_type": "markdown",
      "metadata": {
        "id": "kkfRpD1q8mBF"
      },
      "source": [
        "Sljedeći kod priprema MNIST Dataset objekte koji dolaze s PyTorch paketom. Također instanciramo i DataLoader objekte koji rukuju sa mješanjem i batchanjem skupa podataka."
      ]
    },
    {
      "cell_type": "code",
      "metadata": {
        "id": "fAaV4B5S8mBG"
      },
      "source": [
        "batch_size_train = 64\n",
        "batch_size_test = 64\n",
        "\n",
        "train_set = torchvision.datasets.MNIST('./files/', train=True, download=True,\n",
        "                                       transform=torchvision.transforms.Compose([\n",
        "                                           torchvision.transforms.ToTensor(),\n",
        "                                           torchvision.transforms.Normalize((0.1307,), (0.3081,))])\n",
        "                                      )\n",
        "\n",
        "\n",
        "test_set = torchvision.datasets.MNIST('./files/', train=False, download=True,\n",
        "                                      transform=torchvision.transforms.Compose([\n",
        "                                          torchvision.transforms.ToTensor(),\n",
        "                                          torchvision.transforms.Normalize((0.1307,), (0.3081,))])\n",
        "                                     )"
      ],
      "execution_count": null,
      "outputs": []
    },
    {
      "cell_type": "code",
      "metadata": {
        "id": "_J3mCzx_8mBH"
      },
      "source": [
        "train_loader = DataLoader(train_set, batch_size=batch_size_train, shuffle=True)\n",
        "test_loader = DataLoader(test_set, batch_size=batch_size_test, shuffle=True)"
      ],
      "execution_count": null,
      "outputs": []
    },
    {
      "cell_type": "markdown",
      "metadata": {
        "id": "vDMLAixp8mBH"
      },
      "source": [
        "#### Podzadatak a)\n",
        "Prikažite nekoliko primjera iz skupa za testiranje. Sliku pokažite pomoću `matplotlib` funkcije `imshow`. Neka `title` prikazane slike bude labela uzorka."
      ]
    },
    {
      "cell_type": "code",
      "metadata": {
        "id": "LvgD-IhH8mBI",
        "colab": {
          "base_uri": "https://localhost:8080/",
          "height": 297
        },
        "outputId": "a21df6c9-8bbe-4acd-879a-7dc111a5ed83"
      },
      "source": [
        "examples = enumerate(test_loader)\n",
        "batch_idx, (example_data, example_targets) = next(examples)\n",
        "\n",
        "fig = plt.figure()\n",
        "for i in range(6):\n",
        "    plt.subplot(2,3,i+1)\n",
        "    plt.tight_layout()\n",
        "    plt.imshow(example_data[i].squeeze().float(), cmap='gray', vmin=0, vmax=1)\n",
        "    plt.title(\"Label: {}\".format(example_targets[i]))\n"
      ],
      "execution_count": null,
      "outputs": [
        {
          "output_type": "display_data",
          "data": {
            "text/plain": [
              "<Figure size 432x288 with 6 Axes>"
            ],
            "image/png": "[encoded data removed]"
          },
          "metadata": {
            "needs_background": "light"
          }
        }
      ]
    },
    {
      "cell_type": "code",
      "source": [
        "print(example_data.shape)\n",
        "print(example_targets.shape)\n",
        "print(batch_idx)"
      ],
      "metadata": {
        "colab": {
          "base_uri": "https://localhost:8080/"
        },
        "id": "7X2Td0EWISHy",
        "outputId": "0185bb0a-6c7f-4ddd-b310-659e719dc78e"
      },
      "execution_count": null,
      "outputs": [
        {
          "output_type": "stream",
          "name": "stdout",
          "text": [
            "torch.Size([64, 1, 28, 28])\n",
            "torch.Size([64])\n",
            "0\n"
          ]
        }
      ]
    },
    {
      "cell_type": "markdown",
      "source": [],
      "metadata": {
        "id": "CsAiW163IR3r"
      }
    },
    {
      "cell_type": "markdown",
      "metadata": {
        "id": "1kQ9qiYI8mBJ"
      },
      "source": [
        "## Pomoćne metode za treniranje neuronskih mreža"
      ]
    },
    {
      "cell_type": "markdown",
      "metadata": {
        "id": "1S0DED4z8mBK"
      },
      "source": [
        "Nakon podzadataka ove sekcije postoji skup testova na kojima možete provjeriti točnost vaših pomoćnih funkcija. Bez točno rješenih pomoćnih funkcija ostatak labosa ne možete riješiti. "
      ]
    },
    {
      "cell_type": "markdown",
      "metadata": {
        "id": "hmrFy8BM8mBK"
      },
      "source": [
        "#### Podzadatak b) - Funkcija za određivanje broja parametara PyTorch modela\n",
        "\n",
        "Jedna od metoda usporedbe naših modela će biti po broju parametara koji čine taj model. Radi toga je potrebno napisati metodu `get_number_of_model_parameters(model)` koja za predani model `model` vraća ukupni broj parametara tog modela.\n",
        "Svaki PyTorch model sadrži implementaciju metode `.parameters()` koja vraća iterator nad parametrima modela. Ti parametri su tipa `torch.nn.parameter.Parameter`, čije dimenzije možemo dobiti pomoću `.shape` propertya.\n",
        "Dovrište traženu metodu."
      ]
    },
    {
      "cell_type": "code",
      "metadata": {
        "id": "K3eW20iq8mBK"
      },
      "source": [
        "def get_number_of_model_parameters(model):\n",
        "    return len(list(model.parameters()))\n"
      ],
      "execution_count": null,
      "outputs": []
    },
    {
      "cell_type": "markdown",
      "source": [],
      "metadata": {
        "id": "IHKlhrHhL06z"
      }
    },
    {
      "cell_type": "markdown",
      "source": [],
      "metadata": {
        "id": "l8WtKTCjLs_z"
      }
    },
    {
      "cell_type": "markdown",
      "metadata": {
        "id": "9lYXeFCj8mBK"
      },
      "source": [
        "#### Podzadatak c) - Funkcija za treniranje modela\n",
        "\n",
        "Model se trenira u četiri koraka.\n",
        "\n",
        "1. Izračuna se prolaz unaprijed nad jednim batchom.\n",
        "2. Na temelju dobivenog izlaza i točnih labela se računa gubitak. Kako je pokazano u demonstracijskoj bilježnici, \n",
        "3. Izračunata greška se propagira unazad kroz mrežu radi računanja gradijenata.\n",
        "4. Na temelju gradijenata, vrijednosti parametara i parametrima optimizatora (koji optimizator se koristi, kolika je stopa učenja, momentum i slično) se računa nova vrijednost parametara modela.\n",
        "\n",
        "Implementirajte te korake u funkciji `train_step(train_loader, epoch, device, verbose)`.  \n",
        "\n",
        "Napomene:\n",
        "* Grešku koju trebate računati je \"negative log likelihood loss\", za koju PyTorch nudi implementaciju. Preporučamo da koristite gotovu implementaciju loss funkcije. \n",
        "* Računanje gradijenata pomoću propagacije greške u nazad se računa pomoću metode `.backward()`. Nad kojim elementom pozivamo tu metodu?\n",
        "* Korak optimizacije se radi pomoću `.step()` metode optimizator objekta. Pretpostavite da postoji objekt `optimizer` u globalnom scopeu.\n",
        "* Pripazite da Vam se gradijenti ne akumuliraju kroz više koraka optimizacije. PyTorch modeli nude metodu `.zero_grad()` koja postavlja vrijednosti svih gradijenata nekog modela na 0.\n"
      ]
    },
    {
      "cell_type": "code",
      "metadata": {
        "id": "9v9QCXMS8mBL"
      },
      "source": [
        "def train_step(network, train_loader, epoch, device, verbose=True):\n",
        "    train_losses = []\n",
        "    train_counter = []\n",
        "    \n",
        "    network.train()\n",
        "    \n",
        "    for batch_idx, (data, target) in enumerate(train_loader):\n",
        "        data = data.to(device)\n",
        "        target = target.to(device)\n",
        "        \n",
        "        \n",
        "         # Forward pass through the network\n",
        "        output = network(data)\n",
        "        \n",
        "        # Calculating loss\n",
        "        loss = F.nll_loss(output, target)\n",
        "        \n",
        "        # Backward pass to calculate the gradients\n",
        "        loss.backward()\n",
        "        \n",
        "        # Updating model parameters\n",
        "        optimizer.step()\n",
        "        \n",
        "        # Reset the gradients to zero for the next iteration\n",
        "        optimizer.zero_grad()\n",
        "\n",
        "\n",
        "        \n",
        "        if (batch_idx % log_interval == 0):\n",
        "            if verbose:\n",
        "                print('Train Epoch: {:5d} [{:5d}/{:5d} ({:2.0f}%)]\\tLoss: {:.6f}'.format(\n",
        "                    epoch, \n",
        "                    batch_idx * len(data), \n",
        "                    len(train_loader.dataset),\n",
        "                    100. * batch_idx / len(train_loader), \n",
        "                    loss.item()))\n",
        "            \n",
        "            train_losses.append(loss.item())\n",
        "            train_counter.append((batch_idx*64) + ((epoch-1)*len(train_loader.dataset)))\n",
        "    \n",
        "    return train_losses, train_counter"
      ],
      "execution_count": null,
      "outputs": []
    },
    {
      "cell_type": "markdown",
      "metadata": {
        "id": "ohf-a5xe8mBL"
      },
      "source": [
        "#### Podzadatak d) - Funkcija za evaluaciju modela\n",
        "\n",
        "Uspješnost učenja određujemo pomoću metrika točnosti. U ovoj laboratoriskoj vježbi pratimo dvije metrike - `negative log likelihood` i `accuracy`. Sa NLLLoss smo se već susreli; accuracy definiramo kao:\n",
        "\n",
        "$ accuracy = \\frac{\\text{number of correctly classified samples}}{\\text{total number of samples}} $\n",
        "\n",
        "Nadopunite funkciju `test(network, test_loader, device, verbose)` tako da se model evaluira za navedene metrike.\n",
        "\n",
        "U predloženom kodu se koristi `with torch.no_grad()`. Kako tijekom evaluacije ne mjenjamo parametre modela, gradijent nam nije potreban. Time ubrzavamo računanje (ne računa se gradijent), štedimo memoriju (izračunati gradijent se ne sprema) i spriječavamo buduće probleme (npr. ostanu gradijenti do sljedeće faze treniranja, gdje se gradijenti test seta iskoriste za učenje)."
      ]
    },
    {
      "cell_type": "code",
      "metadata": {
        "id": "6yZi-V2G8mBM"
      },
      "source": [
        "def test(network, test_loader, device, verbose=True):\n",
        "    network.eval()\n",
        "    \n",
        "    test_loss = 0\n",
        "    correct = 0\n",
        "    with torch.no_grad():\n",
        "        for data, target in test_loader:\n",
        "            data = data.to(device)\n",
        "            target = target.to(device)\n",
        "            \n",
        "             \n",
        "             # Forward pass through the network\n",
        "            output = network(data)\n",
        "            \n",
        "            # Calculating loss\n",
        "            test_loss += F.nll_loss(output, target, reduction='sum').item()  \n",
        "            \n",
        "            # Get the predicted class\n",
        "            pred = output.argmax(dim=1, keepdim=True)  \n",
        "            \n",
        "            # Checking if the predicted class is correct\n",
        "            correct += pred.eq(target.view_as(pred)).sum().item()\n",
        "\n",
        "            \n",
        "    test_loss /= len(test_loader.dataset)\n",
        "    accuracy = 100. * correct / len(test_loader.dataset)\n",
        "    \n",
        "    if verbose:\n",
        "        print('\\nTest set: Avg. loss: {:.4f}, Accuracy: {:5d}/{:5d} ({:2.2f}%)\\n'.format(\n",
        "            test_loss, \n",
        "            correct, \n",
        "            len(test_loader.dataset),\n",
        "            accuracy))\n",
        "    \n",
        "    accuracy = torch.tensor(accuracy)\n",
        "    return test_loss, accuracy.item()"
      ],
      "execution_count": null,
      "outputs": []
    },
    {
      "cell_type": "markdown",
      "metadata": {
        "id": "UU8TX3m_8mBM"
      },
      "source": [
        "U sljedećoj fazi laboratorijske vježbe izvršavamo eksperimente, spremamo rezultate i uspoređujemo. Rezultate ćemo spremati u mapi `results`, tako da će `key` mape biti naziv eksperimenta, a vrijednost će biti `tuple` koji sadrži vrijednosti po kojima se model uspoređuje."
      ]
    },
    {
      "cell_type": "code",
      "metadata": {
        "id": "McGMo44M8mBN"
      },
      "source": [
        "results = dict()"
      ],
      "execution_count": null,
      "outputs": []
    },
    {
      "cell_type": "markdown",
      "metadata": {
        "id": "aiqiUWi_8mBN"
      },
      "source": [
        "#### Podzadatak e) - Funkcija za provođenje cijelokupnog eksperimenta nad jednim modelom\n",
        "\n",
        "Sada je vrijeme da se koraci iz prethodnih podzadataka objedine. Funkcija `train_network(network, train_loader, test_loader, device)` radi po sljedećem principu:\n",
        "\n",
        "* Pretpostavlja se da u globalnom scopeu postoji varijabla imena `n_epochs` koja nam govori koliko epoha će se eksperiment izvršavati\n",
        "* Liste `train_losses` i `test_losses` skupljaju loss vrijednosti tijekom treniranja, dok `train_counter` i `test_counter` skupljaju trenutke u kojima se metrika zabilježila (drugim riječima, to su X i Y os na grafu \"loss po vremenu\") \n",
        "* prije samog treniranja se vrši testiranje modela, da se utvrdi performansa slučajnog modela\n",
        "* U svakoj epohi se model trenira, testira i rezultati se zapisuju u odgovarajuće liste\n",
        "* Funkcija vraća te liste na kraju"
      ]
    },
    {
      "cell_type": "code",
      "metadata": {
        "id": "cJegOPOX8mBO"
      },
      "source": [
        "def train_network(network, train_loader, test_loader, device='cpu'):\n",
        "    train_losses = []\n",
        "    train_counter = []\n",
        "    test_losses = []\n",
        "    test_counter = [i*len(train_loader.dataset) for i in range(n_epochs + 1)]\n",
        "\n",
        "    # Training for the first epoch\n",
        "    new_train_losses, new_train_counter = train_step(network, train_loader, 1, device)\n",
        "    train_losses.extend(new_train_losses)\n",
        "    train_counter.extend(new_train_counter)\n",
        "\n",
        "    # Testing on the test set\n",
        "    test_loss, test_accuracy = test(network, test_loader, device)\n",
        "    test_losses.append(test_loss)\n",
        "\n",
        "    for epoch in range(1, n_epochs + 1):\n",
        "        # Training for new epoch\n",
        "        new_train_losses, new_train_counter = train_step(network, train_loader, epoch+1, device)\n",
        "        \n",
        "        train_losses.extend(new_train_losses)\n",
        "        train_counter.extend(new_train_counter)\n",
        "        test_loss, test_accuracy = test(network, test_loader, device)\n",
        "        test_losses.append(test_loss)\n",
        "        \n",
        "    return train_losses, train_counter, test_losses, test_counter, test_accuracy"
      ],
      "execution_count": null,
      "outputs": []
    },
    {
      "cell_type": "markdown",
      "metadata": {
        "id": "BPx7ob8Y8mBO"
      },
      "source": [
        "#### Testovi za utvrđivanje točnosti rada pomoćnih funkcija"
      ]
    },
    {
      "cell_type": "markdown",
      "metadata": {
        "id": "paV04rNe8mBO"
      },
      "source": [
        "Sljedeći kod služi kao pomoć za provjeru ispravnosti gore traženih pomoćnih funkcija. Generira se dataset u dva odvojena skupa, i cilj je naučiti model koji klasificira iz kojeg skupa točka dolazi. Prvo generiramo podatke i slažemo DataLoader:"
      ]
    },
    {
      "cell_type": "code",
      "metadata": {
        "id": "kNsH_z638mBP",
        "colab": {
          "base_uri": "https://localhost:8080/",
          "height": 265
        },
        "outputId": "60781349-a44e-4420-b5e2-eeaf68e72105"
      },
      "source": [
        "data_x = np.hstack([np.random.uniform(1, 3, 50), np.random.uniform(7, 9, 50)])\n",
        "data_y = np.hstack([np.random.uniform(1, 4, 50), np.random.uniform(10, 13, 50)])\n",
        "labels = [0 if x < 50 else 1 for x in range(0, 100)]\n",
        "\n",
        "for idx, unique_label in enumerate([\"lower left\", \"upper right\"]):\n",
        "    if idx == 0:\n",
        "        plt.scatter(data_x[0:50], data_y[0:50], label=unique_label)\n",
        "    if idx == 1:\n",
        "        plt.scatter(data_x[50:], data_y[50:], label=unique_label)\n",
        "        \n",
        "plt.legend()\n",
        "plt.xlim(0, 10)\n",
        "plt.ylim(0, 15)\n",
        "\n",
        "\n",
        "tensor_x = torch.Tensor(np.dstack([data_x, data_y]).reshape(100, 2).astype(np.float32))\n",
        "tensor_y = torch.Tensor(labels).to(dtype=torch.int64)\n",
        "\n",
        "toy_dataset = TensorDataset(tensor_x, tensor_y)\n",
        "toy_dataloader = DataLoader(toy_dataset, batch_size=1, shuffle=True)"
      ],
      "execution_count": null,
      "outputs": [
        {
          "output_type": "display_data",
          "data": {
            "text/plain": [
              "<Figure size 432x288 with 1 Axes>"
            ],
            "image/png": "[encoded data removed]"
          },
          "metadata": {
            "needs_background": "light"
          }
        }
      ]
    },
    {
      "cell_type": "code",
      "source": [
        "toy_dataloader"
      ],
      "metadata": {
        "colab": {
          "base_uri": "https://localhost:8080/"
        },
        "id": "K66DPTohYR3i",
        "outputId": "43af2728-8af6-4ebd-cae4-e3e6aa88a668"
      },
      "execution_count": null,
      "outputs": [
        {
          "output_type": "execute_result",
          "data": {
            "text/plain": [
              "<torch.utils.data.dataloader.DataLoader at 0x7fd56c0babe0>"
            ]
          },
          "metadata": {},
          "execution_count": 69
        }
      ]
    },
    {
      "cell_type": "markdown",
      "metadata": {
        "id": "iNHdjaCR8mBQ"
      },
      "source": [
        "Nakon toga definiramo naš model. U ovom slučaju je model dvoslojna mreža sa dva potpuno povezana sloja. "
      ]
    },
    {
      "cell_type": "code",
      "metadata": {
        "id": "WbZMVoc98mBQ"
      },
      "source": [
        "class Net(nn.Module):\n",
        "    def __init__(self):\n",
        "        super(Net, self).__init__()\n",
        "        self.fc1 = nn.Linear(2, 4)\n",
        "        self.fc2 = nn.Linear(4, 2)\n",
        "        \n",
        "    def forward(self, x):\n",
        "        x = F.relu(self.fc1(x))\n",
        "        x = F.dropout(x, training=self.training)\n",
        "        x = self.fc2(x)\n",
        "        \n",
        "        return F.log_softmax(x, dim=1)"
      ],
      "execution_count": null,
      "outputs": []
    },
    {
      "cell_type": "markdown",
      "metadata": {
        "id": "br8AYdhJ8mBQ"
      },
      "source": [
        "Podešavamo parametre koje naše pomoćne funkcije očekivaju, te instanciramo model i optimizator."
      ]
    },
    {
      "cell_type": "code",
      "metadata": {
        "id": "mqep0hYD8mBR"
      },
      "source": [
        "n_epochs = 30\n",
        "learning_rate = 0.01\n",
        "log_interval = 33\n",
        "\n",
        "network = Net().to('cpu')\n",
        "optimizer = optim.SGD(network.parameters(), lr=learning_rate)"
      ],
      "execution_count": null,
      "outputs": []
    },
    {
      "cell_type": "markdown",
      "metadata": {
        "id": "lVxivEP58mBR"
      },
      "source": [
        "I sada možemo trenirati naš model. Vaše funkcije su ispravne ako točnost doesgne 100% (ili barem jako blizu). **Bez ispravnih pomoćnih funkcija nećete moći riješiti ostatak labosa.**"
      ]
    },
    {
      "cell_type": "code",
      "metadata": {
        "id": "kd9btJ7f8mBR",
        "colab": {
          "base_uri": "https://localhost:8080/"
        },
        "outputId": "5562cc18-bda6-421e-c602-b5f3991f9409"
      },
      "source": [
        "train_network(network, toy_dataloader, toy_dataloader, 'cpu')"
      ],
      "execution_count": null,
      "outputs": [
        {
          "output_type": "stream",
          "name": "stdout",
          "text": [
            "Train Epoch:     1 [    0/  100 ( 0%)]\tLoss: 0.397841\n",
            "Train Epoch:     1 [   33/  100 (33%)]\tLoss: 0.796032\n",
            "Train Epoch:     1 [   66/  100 (66%)]\tLoss: 0.625567\n",
            "Train Epoch:     1 [   99/  100 (99%)]\tLoss: 1.100014\n",
            "\n",
            "Test set: Avg. loss: 0.5497, Accuracy:    63/  100 (63.00%)\n",
            "\n",
            "Train Epoch:     2 [    0/  100 ( 0%)]\tLoss: 0.136173\n",
            "Train Epoch:     2 [   33/  100 (33%)]\tLoss: 1.221048\n",
            "Train Epoch:     2 [   66/  100 (66%)]\tLoss: 0.608460\n",
            "Train Epoch:     2 [   99/  100 (99%)]\tLoss: 0.849228\n",
            "\n",
            "Test set: Avg. loss: 0.6485, Accuracy:    50/  100 (50.00%)\n",
            "\n",
            "Train Epoch:     3 [    0/  100 ( 0%)]\tLoss: 0.664894\n",
            "Train Epoch:     3 [   33/  100 (33%)]\tLoss: 0.579670\n",
            "Train Epoch:     3 [   66/  100 (66%)]\tLoss: 0.548703\n",
            "Train Epoch:     3 [   99/  100 (99%)]\tLoss: 0.528010\n",
            "\n",
            "Test set: Avg. loss: 0.5670, Accuracy:   100/  100 (100.00%)\n",
            "\n",
            "Train Epoch:     4 [    0/  100 ( 0%)]\tLoss: 0.301179\n",
            "Train Epoch:     4 [   33/  100 (33%)]\tLoss: 0.876967\n",
            "Train Epoch:     4 [   66/  100 (66%)]\tLoss: 0.265129\n",
            "Train Epoch:     4 [   99/  100 (99%)]\tLoss: 0.921738\n",
            "\n",
            "Test set: Avg. loss: 0.4681, Accuracy:    78/  100 (78.00%)\n",
            "\n",
            "Train Epoch:     5 [    0/  100 ( 0%)]\tLoss: 0.914503\n",
            "Train Epoch:     5 [   33/  100 (33%)]\tLoss: 0.484093\n",
            "Train Epoch:     5 [   66/  100 (66%)]\tLoss: 0.860741\n",
            "Train Epoch:     5 [   99/  100 (99%)]\tLoss: 0.486899\n",
            "\n",
            "Test set: Avg. loss: 0.5378, Accuracy:   100/  100 (100.00%)\n",
            "\n",
            "Train Epoch:     6 [    0/  100 ( 0%)]\tLoss: 0.288492\n",
            "Train Epoch:     6 [   33/  100 (33%)]\tLoss: 0.646945\n",
            "Train Epoch:     6 [   66/  100 (66%)]\tLoss: 0.466847\n",
            "Train Epoch:     6 [   99/  100 (99%)]\tLoss: 1.006965\n",
            "\n",
            "Test set: Avg. loss: 0.4617, Accuracy:    99/  100 (99.00%)\n",
            "\n",
            "Train Epoch:     7 [    0/  100 ( 0%)]\tLoss: 0.080470\n",
            "Train Epoch:     7 [   33/  100 (33%)]\tLoss: 0.163837\n",
            "Train Epoch:     7 [   66/  100 (66%)]\tLoss: 0.463073\n",
            "Train Epoch:     7 [   99/  100 (99%)]\tLoss: 0.798087\n",
            "\n",
            "Test set: Avg. loss: 0.4825, Accuracy:    92/  100 (92.00%)\n",
            "\n",
            "Train Epoch:     8 [    0/  100 ( 0%)]\tLoss: 1.010545\n",
            "Train Epoch:     8 [   33/  100 (33%)]\tLoss: 1.513011\n",
            "Train Epoch:     8 [   66/  100 (66%)]\tLoss: 0.874851\n",
            "Train Epoch:     8 [   99/  100 (99%)]\tLoss: 0.473873\n",
            "\n",
            "Test set: Avg. loss: 0.4391, Accuracy:    99/  100 (99.00%)\n",
            "\n",
            "Train Epoch:     9 [    0/  100 ( 0%)]\tLoss: 0.979119\n",
            "Train Epoch:     9 [   33/  100 (33%)]\tLoss: 0.473023\n",
            "Train Epoch:     9 [   66/  100 (66%)]\tLoss: 0.109404\n",
            "Train Epoch:     9 [   99/  100 (99%)]\tLoss: 0.187315\n",
            "\n",
            "Test set: Avg. loss: 0.4499, Accuracy:   100/  100 (100.00%)\n",
            "\n",
            "Train Epoch:    10 [    0/  100 ( 0%)]\tLoss: 0.668528\n",
            "Train Epoch:    10 [   33/  100 (33%)]\tLoss: 0.084720\n",
            "Train Epoch:    10 [   66/  100 (66%)]\tLoss: 0.115723\n",
            "Train Epoch:    10 [   99/  100 (99%)]\tLoss: 0.313125\n",
            "\n",
            "Test set: Avg. loss: 0.4567, Accuracy:   100/  100 (100.00%)\n",
            "\n",
            "Train Epoch:    11 [    0/  100 ( 0%)]\tLoss: 0.146631\n",
            "Train Epoch:    11 [   33/  100 (33%)]\tLoss: 0.983984\n",
            "Train Epoch:    11 [   66/  100 (66%)]\tLoss: 0.994567\n",
            "Train Epoch:    11 [   99/  100 (99%)]\tLoss: 0.692175\n",
            "\n",
            "Test set: Avg. loss: 0.4338, Accuracy:   100/  100 (100.00%)\n",
            "\n",
            "Train Epoch:    12 [    0/  100 ( 0%)]\tLoss: 0.082006\n",
            "Train Epoch:    12 [   33/  100 (33%)]\tLoss: 1.039862\n",
            "Train Epoch:    12 [   66/  100 (66%)]\tLoss: 0.066805\n",
            "Train Epoch:    12 [   99/  100 (99%)]\tLoss: 0.839722\n",
            "\n",
            "Test set: Avg. loss: 0.4748, Accuracy:    89/  100 (89.00%)\n",
            "\n",
            "Train Epoch:    13 [    0/  100 ( 0%)]\tLoss: 0.131263\n",
            "Train Epoch:    13 [   33/  100 (33%)]\tLoss: 0.434310\n",
            "Train Epoch:    13 [   66/  100 (66%)]\tLoss: 0.102412\n",
            "Train Epoch:    13 [   99/  100 (99%)]\tLoss: 0.746781\n",
            "\n",
            "Test set: Avg. loss: 0.3939, Accuracy:   100/  100 (100.00%)\n",
            "\n",
            "Train Epoch:    14 [    0/  100 ( 0%)]\tLoss: 0.438678\n",
            "Train Epoch:    14 [   33/  100 (33%)]\tLoss: 1.073667\n",
            "Train Epoch:    14 [   66/  100 (66%)]\tLoss: 0.086871\n",
            "Train Epoch:    14 [   99/  100 (99%)]\tLoss: 0.608078\n",
            "\n",
            "Test set: Avg. loss: 0.4214, Accuracy:   100/  100 (100.00%)\n",
            "\n",
            "Train Epoch:    15 [    0/  100 ( 0%)]\tLoss: 1.058653\n",
            "Train Epoch:    15 [   33/  100 (33%)]\tLoss: 0.089305\n",
            "Train Epoch:    15 [   66/  100 (66%)]\tLoss: 0.987395\n",
            "Train Epoch:    15 [   99/  100 (99%)]\tLoss: 0.533711\n",
            "\n",
            "Test set: Avg. loss: 0.4366, Accuracy:   100/  100 (100.00%)\n",
            "\n",
            "Train Epoch:    16 [    0/  100 ( 0%)]\tLoss: 0.126710\n",
            "Train Epoch:    16 [   33/  100 (33%)]\tLoss: 0.445898\n",
            "Train Epoch:    16 [   66/  100 (66%)]\tLoss: 0.165033\n",
            "Train Epoch:    16 [   99/  100 (99%)]\tLoss: 0.051731\n",
            "\n",
            "Test set: Avg. loss: 0.3605, Accuracy:    98/  100 (98.00%)\n",
            "\n",
            "Train Epoch:    17 [    0/  100 ( 0%)]\tLoss: 1.012464\n",
            "Train Epoch:    17 [   33/  100 (33%)]\tLoss: 0.475512\n",
            "Train Epoch:    17 [   66/  100 (66%)]\tLoss: 1.011903\n",
            "Train Epoch:    17 [   99/  100 (99%)]\tLoss: 1.001034\n",
            "\n",
            "Test set: Avg. loss: 0.3878, Accuracy:    85/  100 (85.00%)\n",
            "\n",
            "Train Epoch:    18 [    0/  100 ( 0%)]\tLoss: 0.462741\n",
            "Train Epoch:    18 [   33/  100 (33%)]\tLoss: 0.043536\n",
            "Train Epoch:    18 [   66/  100 (66%)]\tLoss: 0.477446\n",
            "Train Epoch:    18 [   99/  100 (99%)]\tLoss: 0.897524\n",
            "\n",
            "Test set: Avg. loss: 0.3853, Accuracy:   100/  100 (100.00%)\n",
            "\n",
            "Train Epoch:    19 [    0/  100 ( 0%)]\tLoss: 0.036995\n",
            "Train Epoch:    19 [   33/  100 (33%)]\tLoss: 0.030794\n",
            "Train Epoch:    19 [   66/  100 (66%)]\tLoss: 0.465807\n",
            "Train Epoch:    19 [   99/  100 (99%)]\tLoss: 0.934462\n",
            "\n",
            "Test set: Avg. loss: 0.4087, Accuracy:   100/  100 (100.00%)\n",
            "\n",
            "Train Epoch:    20 [    0/  100 ( 0%)]\tLoss: 0.134213\n",
            "Train Epoch:    20 [   33/  100 (33%)]\tLoss: 0.707647\n",
            "Train Epoch:    20 [   66/  100 (66%)]\tLoss: 0.294320\n",
            "Train Epoch:    20 [   99/  100 (99%)]\tLoss: 0.975964\n",
            "\n",
            "Test set: Avg. loss: 0.3569, Accuracy:    96/  100 (96.00%)\n",
            "\n",
            "Train Epoch:    21 [    0/  100 ( 0%)]\tLoss: 0.043521\n",
            "Train Epoch:    21 [   33/  100 (33%)]\tLoss: 0.224834\n",
            "Train Epoch:    21 [   66/  100 (66%)]\tLoss: 0.481288\n",
            "Train Epoch:    21 [   99/  100 (99%)]\tLoss: 0.465837\n",
            "\n",
            "Test set: Avg. loss: 0.4023, Accuracy:   100/  100 (100.00%)\n",
            "\n",
            "Train Epoch:    22 [    0/  100 ( 0%)]\tLoss: 0.643953\n",
            "Train Epoch:    22 [   33/  100 (33%)]\tLoss: 0.400297\n",
            "Train Epoch:    22 [   66/  100 (66%)]\tLoss: 1.013023\n",
            "Train Epoch:    22 [   99/  100 (99%)]\tLoss: 0.978158\n",
            "\n",
            "Test set: Avg. loss: 0.4019, Accuracy:   100/  100 (100.00%)\n",
            "\n",
            "Train Epoch:    23 [    0/  100 ( 0%)]\tLoss: 0.476321\n",
            "Train Epoch:    23 [   33/  100 (33%)]\tLoss: 0.709031\n",
            "Train Epoch:    23 [   66/  100 (66%)]\tLoss: 0.947158\n",
            "Train Epoch:    23 [   99/  100 (99%)]\tLoss: 0.054840\n",
            "\n",
            "Test set: Avg. loss: 0.2998, Accuracy:    95/  100 (95.00%)\n",
            "\n",
            "Train Epoch:    24 [    0/  100 ( 0%)]\tLoss: 0.340482\n",
            "Train Epoch:    24 [   33/  100 (33%)]\tLoss: 0.757664\n",
            "Train Epoch:    24 [   66/  100 (66%)]\tLoss: 0.970464\n",
            "Train Epoch:    24 [   99/  100 (99%)]\tLoss: 0.112146\n",
            "\n",
            "Test set: Avg. loss: 0.3461, Accuracy:   100/  100 (100.00%)\n",
            "\n",
            "Train Epoch:    25 [    0/  100 ( 0%)]\tLoss: 0.481272\n",
            "Train Epoch:    25 [   33/  100 (33%)]\tLoss: 0.478183\n",
            "Train Epoch:    25 [   66/  100 (66%)]\tLoss: 0.981272\n",
            "Train Epoch:    25 [   99/  100 (99%)]\tLoss: 0.115260\n",
            "\n",
            "Test set: Avg. loss: 0.3659, Accuracy:   100/  100 (100.00%)\n",
            "\n",
            "Train Epoch:    26 [    0/  100 ( 0%)]\tLoss: 0.469090\n",
            "Train Epoch:    26 [   33/  100 (33%)]\tLoss: 0.462924\n",
            "Train Epoch:    26 [   66/  100 (66%)]\tLoss: 0.586335\n",
            "Train Epoch:    26 [   99/  100 (99%)]\tLoss: 0.478142\n",
            "\n",
            "Test set: Avg. loss: 0.3436, Accuracy:   100/  100 (100.00%)\n",
            "\n",
            "Train Epoch:    27 [    0/  100 ( 0%)]\tLoss: 0.201655\n",
            "Train Epoch:    27 [   33/  100 (33%)]\tLoss: 0.030772\n",
            "Train Epoch:    27 [   66/  100 (66%)]\tLoss: 0.089121\n",
            "Train Epoch:    27 [   99/  100 (99%)]\tLoss: 0.027572\n",
            "\n",
            "Test set: Avg. loss: 0.2442, Accuracy:   100/  100 (100.00%)\n",
            "\n",
            "Train Epoch:    28 [    0/  100 ( 0%)]\tLoss: 0.037682\n",
            "Train Epoch:    28 [   33/  100 (33%)]\tLoss: 0.011787\n",
            "Train Epoch:    28 [   66/  100 (66%)]\tLoss: 0.014560\n",
            "Train Epoch:    28 [   99/  100 (99%)]\tLoss: 0.012824\n",
            "\n",
            "Test set: Avg. loss: 0.2547, Accuracy:   100/  100 (100.00%)\n",
            "\n",
            "Train Epoch:    29 [    0/  100 ( 0%)]\tLoss: 0.956441\n",
            "Train Epoch:    29 [   33/  100 (33%)]\tLoss: 0.505213\n",
            "Train Epoch:    29 [   66/  100 (66%)]\tLoss: 0.487193\n",
            "Train Epoch:    29 [   99/  100 (99%)]\tLoss: 0.036453\n",
            "\n",
            "Test set: Avg. loss: 0.2276, Accuracy:    98/  100 (98.00%)\n",
            "\n",
            "Train Epoch:    30 [    0/  100 ( 0%)]\tLoss: 0.003531\n",
            "Train Epoch:    30 [   33/  100 (33%)]\tLoss: 0.522152\n",
            "Train Epoch:    30 [   66/  100 (66%)]\tLoss: 0.006047\n",
            "Train Epoch:    30 [   99/  100 (99%)]\tLoss: 0.006390\n",
            "\n",
            "Test set: Avg. loss: 0.2290, Accuracy:   100/  100 (100.00%)\n",
            "\n",
            "Train Epoch:    31 [    0/  100 ( 0%)]\tLoss: 0.691942\n",
            "Train Epoch:    31 [   33/  100 (33%)]\tLoss: 0.012631\n",
            "Train Epoch:    31 [   66/  100 (66%)]\tLoss: 0.527201\n",
            "Train Epoch:    31 [   99/  100 (99%)]\tLoss: 0.442619\n",
            "\n",
            "Test set: Avg. loss: 0.2033, Accuracy:   100/  100 (100.00%)\n",
            "\n"
          ]
        },
        {
          "output_type": "execute_result",
          "data": {
            "text/plain": [
              "([0.3978414535522461,\n",
              "  0.7960323095321655,\n",
              "  0.6255674362182617,\n",
              "  1.1000138521194458,\n",
              "  0.13617341220378876,\n",
              "  1.2210478782653809,\n",
              "  0.6084598898887634,\n",
              "  0.8492282032966614,\n",
              "  0.6648944616317749,\n",
              "  0.5796700716018677,\n",
              "  0.5487029552459717,\n",
              "  0.5280101895332336,\n",
              "  0.3011794686317444,\n",
              "  0.8769674897193909,\n",
              "  0.26512861251831055,\n",
              "  0.9217382669448853,\n",
              "  0.9145033359527588,\n",
              "  0.4840928912162781,\n",
              "  0.8607414960861206,\n",
              "  0.4868989884853363,\n",
              "  0.288491815328598,\n",
              "  0.6469451189041138,\n",
              "  0.4668470025062561,\n",
              "  1.0069645643234253,\n",
              "  0.08047004789113998,\n",
              "  0.16383668780326843,\n",
              "  0.4630732238292694,\n",
              "  0.7980873584747314,\n",
              "  1.010545015335083,\n",
              "  1.51301109790802,\n",
              "  0.8748506307601929,\n",
              "  0.4738733470439911,\n",
              "  0.979119062423706,\n",
              "  0.4730227589607239,\n",
              "  0.10940412431955338,\n",
              "  0.18731461465358734,\n",
              "  0.6685276627540588,\n",
              "  0.08472023159265518,\n",
              "  0.11572278290987015,\n",
              "  0.31312471628189087,\n",
              "  0.1466311663389206,\n",
              "  0.9839842319488525,\n",
              "  0.9945665001869202,\n",
              "  0.6921751499176025,\n",
              "  0.08200600743293762,\n",
              "  1.0398621559143066,\n",
              "  0.06680504232645035,\n",
              "  0.8397220373153687,\n",
              "  0.13126277923583984,\n",
              "  0.4343101382255554,\n",
              "  0.10241244733333588,\n",
              "  0.7467809915542603,\n",
              "  0.4386778175830841,\n",
              "  1.0736668109893799,\n",
              "  0.08687130361795425,\n",
              "  0.6080777049064636,\n",
              "  1.0586528778076172,\n",
              "  0.08930530399084091,\n",
              "  0.9873949885368347,\n",
              "  0.5337108969688416,\n",
              "  0.12670952081680298,\n",
              "  0.4458979368209839,\n",
              "  0.16503329575061798,\n",
              "  0.051730941981077194,\n",
              "  1.0124636888504028,\n",
              "  0.47551214694976807,\n",
              "  1.011902928352356,\n",
              "  1.0010337829589844,\n",
              "  0.462741494178772,\n",
              "  0.04353589937090874,\n",
              "  0.477446049451828,\n",
              "  0.8975238800048828,\n",
              "  0.03699517622590065,\n",
              "  0.03079373762011528,\n",
              "  0.46580740809440613,\n",
              "  0.9344619512557983,\n",
              "  0.1342133730649948,\n",
              "  0.7076472640037537,\n",
              "  0.2943195104598999,\n",
              "  0.9759637117385864,\n",
              "  0.04352106153964996,\n",
              "  0.22483375668525696,\n",
              "  0.4812878668308258,\n",
              "  0.4658367335796356,\n",
              "  0.6439533233642578,\n",
              "  0.4002973139286041,\n",
              "  1.0130226612091064,\n",
              "  0.978157639503479,\n",
              "  0.47632089257240295,\n",
              "  0.7090312242507935,\n",
              "  0.9471578598022461,\n",
              "  0.0548403263092041,\n",
              "  0.34048202633857727,\n",
              "  0.757664144039154,\n",
              "  0.9704639911651611,\n",
              "  0.11214643716812134,\n",
              "  0.4812721014022827,\n",
              "  0.4781830906867981,\n",
              "  0.981271505355835,\n",
              "  0.11525982618331909,\n",
              "  0.469090074300766,\n",
              "  0.4629237651824951,\n",
              "  0.5863348245620728,\n",
              "  0.4781423807144165,\n",
              "  0.20165471732616425,\n",
              "  0.030772121623158455,\n",
              "  0.08912135660648346,\n",
              "  0.027571793645620346,\n",
              "  0.03768215328454971,\n",
              "  0.011786817573010921,\n",
              "  0.014559690840542316,\n",
              "  0.012823618948459625,\n",
              "  0.9564412236213684,\n",
              "  0.5052125453948975,\n",
              "  0.4871930778026581,\n",
              "  0.03645314276218414,\n",
              "  0.0035311745014041662,\n",
              "  0.5221520066261292,\n",
              "  0.006047048140317202,\n",
              "  0.006390493828803301,\n",
              "  0.6919419169425964,\n",
              "  0.01263117603957653,\n",
              "  0.5272014737129211,\n",
              "  0.44261911511421204],\n",
              " [0,\n",
              "  2112,\n",
              "  4224,\n",
              "  6336,\n",
              "  100,\n",
              "  2212,\n",
              "  4324,\n",
              "  6436,\n",
              "  200,\n",
              "  2312,\n",
              "  4424,\n",
              "  6536,\n",
              "  300,\n",
              "  2412,\n",
              "  4524,\n",
              "  6636,\n",
              "  400,\n",
              "  2512,\n",
              "  4624,\n",
              "  6736,\n",
              "  500,\n",
              "  2612,\n",
              "  4724,\n",
              "  6836,\n",
              "  600,\n",
              "  2712,\n",
              "  4824,\n",
              "  6936,\n",
              "  700,\n",
              "  2812,\n",
              "  4924,\n",
              "  7036,\n",
              "  800,\n",
              "  2912,\n",
              "  5024,\n",
              "  7136,\n",
              "  900,\n",
              "  3012,\n",
              "  5124,\n",
              "  7236,\n",
              "  1000,\n",
              "  3112,\n",
              "  5224,\n",
              "  7336,\n",
              "  1100,\n",
              "  3212,\n",
              "  5324,\n",
              "  7436,\n",
              "  1200,\n",
              "  3312,\n",
              "  5424,\n",
              "  7536,\n",
              "  1300,\n",
              "  3412,\n",
              "  5524,\n",
              "  7636,\n",
              "  1400,\n",
              "  3512,\n",
              "  5624,\n",
              "  7736,\n",
              "  1500,\n",
              "  3612,\n",
              "  5724,\n",
              "  7836,\n",
              "  1600,\n",
              "  3712,\n",
              "  5824,\n",
              "  7936,\n",
              "  1700,\n",
              "  3812,\n",
              "  5924,\n",
              "  8036,\n",
              "  1800,\n",
              "  3912,\n",
              "  6024,\n",
              "  8136,\n",
              "  1900,\n",
              "  4012,\n",
              "  6124,\n",
              "  8236,\n",
              "  2000,\n",
              "  4112,\n",
              "  6224,\n",
              "  8336,\n",
              "  2100,\n",
              "  4212,\n",
              "  6324,\n",
              "  8436,\n",
              "  2200,\n",
              "  4312,\n",
              "  6424,\n",
              "  8536,\n",
              "  2300,\n",
              "  4412,\n",
              "  6524,\n",
              "  8636,\n",
              "  2400,\n",
              "  4512,\n",
              "  6624,\n",
              "  8736,\n",
              "  2500,\n",
              "  4612,\n",
              "  6724,\n",
              "  8836,\n",
              "  2600,\n",
              "  4712,\n",
              "  6824,\n",
              "  8936,\n",
              "  2700,\n",
              "  4812,\n",
              "  6924,\n",
              "  9036,\n",
              "  2800,\n",
              "  4912,\n",
              "  7024,\n",
              "  9136,\n",
              "  2900,\n",
              "  5012,\n",
              "  7124,\n",
              "  9236,\n",
              "  3000,\n",
              "  5112,\n",
              "  7224,\n",
              "  9336],\n",
              " [0.5496625739336014,\n",
              "  0.6484520718455314,\n",
              "  0.5670009192824363,\n",
              "  0.4681230068206787,\n",
              "  0.537804237306118,\n",
              "  0.4616710940003395,\n",
              "  0.482504600584507,\n",
              "  0.4391033561527729,\n",
              "  0.4499075075984001,\n",
              "  0.45672849982976915,\n",
              "  0.4338092277944088,\n",
              "  0.4748014924675226,\n",
              "  0.393902907371521,\n",
              "  0.4213781554996967,\n",
              "  0.4366021464765072,\n",
              "  0.3605192765593529,\n",
              "  0.3877805358543992,\n",
              "  0.38527939341962336,\n",
              "  0.4087274257838726,\n",
              "  0.3568778569251299,\n",
              "  0.40229798555374147,\n",
              "  0.40191475220024586,\n",
              "  0.29978565745055674,\n",
              "  0.34611922800540923,\n",
              "  0.3658897981792688,\n",
              "  0.34357442740350963,\n",
              "  0.24422596860677004,\n",
              "  0.25473424382507803,\n",
              "  0.22763450134545565,\n",
              "  0.2290045964345336,\n",
              "  0.2033227037638426],\n",
              " [0,\n",
              "  100,\n",
              "  200,\n",
              "  300,\n",
              "  400,\n",
              "  500,\n",
              "  600,\n",
              "  700,\n",
              "  800,\n",
              "  900,\n",
              "  1000,\n",
              "  1100,\n",
              "  1200,\n",
              "  1300,\n",
              "  1400,\n",
              "  1500,\n",
              "  1600,\n",
              "  1700,\n",
              "  1800,\n",
              "  1900,\n",
              "  2000,\n",
              "  2100,\n",
              "  2200,\n",
              "  2300,\n",
              "  2400,\n",
              "  2500,\n",
              "  2600,\n",
              "  2700,\n",
              "  2800,\n",
              "  2900,\n",
              "  3000],\n",
              " 100.0)"
            ]
          },
          "metadata": {},
          "execution_count": 72
        }
      ]
    },
    {
      "cell_type": "markdown",
      "metadata": {
        "id": "c0hDHgfq8mBR"
      },
      "source": [
        "## Provođenje eksperimenata i analiza rezultata"
      ]
    },
    {
      "cell_type": "markdown",
      "metadata": {
        "id": "PWvBdwXm8mBR"
      },
      "source": [
        "#### Podzadatak f) - Eksperimenti\n",
        "\n",
        "Sljedeća faza labosa je korištenje naših funkcija u okviru eksperimenata. Potrebno je testirati sljedeće modele:\n",
        "\n",
        "* **Plitki model sa uskim slojevima**\n",
        "    * Model je plitak po tome što nema puno slojeva (ne ide u dubinu) i uzak po tome što sami slojevi nemaju veliki broj elemenata (npr. 1 sloj sa 100 neurona umjesto 10 slojeva sa 10 neurona)\n",
        "    * Arhitektura modela je sljedeća:\n",
        "        * Konvolucijski sloj 5x5x10\n",
        "        * Dropout (za regularizaciju)\n",
        "        * Max pooling\n",
        "        * ReLU aktivacija\n",
        "        * Potpuno povezani sloj sa 20 neurona, ReLU aktivacija\n",
        "        * Potpuno povezani sloj za klasifikaciju u 10 klasa, log softmax aktivacijska funkcija\n",
        "    * U `results` mapi se sprema pod ključem `shallow_and_narrow_{stopa učenja}`\n",
        "* **Plitki model sa širokim slojevima**\n",
        "    * Ovaj model također nema puno slojeva, ali ti slojevi imaju puno elemenata\n",
        "    * Arhitektura modela je sljedeća:\n",
        "        * Konvolucijski sloj 5x5x40\n",
        "        * Dropout (za regularizaciju)\n",
        "        * Max pooling\n",
        "        * ReLU aktivacija\n",
        "        * Potpuno povezani sloj sa 64 neurona, ReLU aktivacija\n",
        "        * Potpuno povezani sloj za klasifikaciju u 10 klasa, log softmax aktivacijska funkcija\n",
        "    * U `results` mapi se sprema pod ključem `shallow_and_wide_{stopa učenja}`\n",
        "* **Duboki model sa uskim slojevima**\n",
        "    * Ovaj model ima puno slojeva, ali su ti slojevi ograničeni u svojoj širini\n",
        "    * Arhitektura modela je sljedeća:\n",
        "        * Konvolucijski sloj 5x5x10, ReLU aktivacijska funkcija\n",
        "        * Max pooling\n",
        "        * Konvolucijski sloj 5x5x20, ReLU aktivacijska funkcija\n",
        "        * Max pooling\n",
        "        * Potpuno povezani sloj sa 64 neurona, ReLU aktivacija\n",
        "        * Dropout (za regularizaciju)\n",
        "        * Potpuno povezani sloj za klasifikaciju u 10 klasa, log softmax aktivacijska funkcija\n",
        "    * U `results` mapi se sprema pod ključem `deep_and_narrow_{stopa učenja}`\n",
        "* **Duboki model sa širokim slojevima**\n",
        "    * Model koji ima sve komponente dobro (ili previše?) zastupljene.\n",
        "    * Arhitektura modela je sljedeća:\n",
        "        * Konvolucijski sloj 5x5x32, ReLU aktivacijska funkcija\n",
        "        * Max pooling\n",
        "        * Konvolucijski sloj 5x5x64, ReLU aktivacijska funkcija\n",
        "        * Max pooling\n",
        "        * Potpuno povezani sloj sa 50 neurona, ReLU aktivacija\n",
        "        * Dropout (za regularizaciju)\n",
        "        * Potpuno povezani sloj za klasifikaciju u 10 klasa, log softmax aktivacijska funkcija\n",
        "    * U `results` mapi se sprema pod ključem `deep_and_wide_{stopa učenja}`\n",
        "\n",
        "\n",
        "Implementirajte `.__init__(self)` i `.forward(self, x)` metode za svaki od opisanih modela, trenirajte ih, evaluirajte i spremite metrike. **Ponovite taj postupak za 3 različite stope učenja: 0.0000001, 0.01 i 1.**\n",
        "\n",
        "Sve potrebne slojeve za ostvarenje navedenih modela možete pronaći u torch.nn modulu. Detalje možete pronaći u službenoj PyTorch dokumentaciji: https://pytorch.org/docs/stable/index.html \n",
        "\n",
        "**Spremite si najbolji model. Biti će potreban u podzadatku h)**."
      ]
    },
    {
      "cell_type": "markdown",
      "metadata": {
        "id": "Ren1f8A_8mBS"
      },
      "source": [
        "Prvo je potrebno podesiti parametre. Parametri su sljedeći:\n",
        "* n_epochs - broj epoha eksperimenta\n",
        "* learning_rate - stopa učenja\n",
        "* log_interval - broj koraka između dva ispisa tijekom treniranja (ispis se dešava samo ako se funkcija poziva s argumentom verbose=True)\n",
        "* device - oznaka na kojem se uređaju izvršava eksperiment; \"cuda\" za GPU, \"cpu\" za CPU"
      ]
    },
    {
      "cell_type": "code",
      "metadata": {
        "id": "oDWKY6xv8mBT"
      },
      "source": [
        "n_epochs = 3\n",
        "learning_rate = 0.01\n",
        "log_interval = 100\n",
        "device = 'cuda'"
      ],
      "execution_count": null,
      "outputs": []
    },
    {
      "cell_type": "markdown",
      "source": [],
      "metadata": {
        "id": "bIESjpBifLij"
      }
    },
    {
      "cell_type": "markdown",
      "metadata": {
        "id": "CCwyio0H8mBT"
      },
      "source": [
        "Naš model definiramo u klasi \"Net\" koja nasljeđuje nn.Module. Nadjačajte metode `__init__(self)` i `forward(self, x)` kako je opisano u tekstu zadatka."
      ]
    },
    {
      "cell_type": "code",
      "metadata": {
        "id": "F1m2mIIS8mBT"
      },
      "source": [
        "class Net(nn.Module):\n",
        "    def __init__(self):\n",
        "        super(Net, self).__init__()\n",
        "        self.conv1 = nn.Conv2d(1, 32, kernel_size=5)\n",
        "        self.dropout = nn.Dropout()\n",
        "        self.fc1 = nn.Linear(40, 20)\n",
        "        self.fc2 = nn.Linear(20, 10)\n",
        "\n",
        "    def forward(self, x):\n",
        "        x = F.relu(F.max_pool2d(self.conv1(x), 2))\n",
        "        x = self.dropout(x)\n",
        "        x = x.view(-1, 40)\n",
        "        x = F.relu(self.fc1(x))\n",
        "        x = self.fc2(x)\n",
        "        return F.log_softmax(x, dim=1)"
      ],
      "execution_count": null,
      "outputs": []
    },
    {
      "cell_type": "markdown",
      "metadata": {
        "id": "fKokmD838mBT"
      },
      "source": [
        "Da bi trenirali naš model, potrebno je napraviti instancu mreže i optimizatora. Koristite Stohastic Gradient Descent optimizator iz torch.optim modula. Detalji se mogu pronaći u službenoj dokuemntaciji PyTorcha za optim modul: https://pytorch.org/docs/stable/optim.html"
      ]
    },
    {
      "cell_type": "code",
      "metadata": {
        "id": "HrXS5a7U8mBT"
      },
      "source": [
        "#CUDA is not available\n",
        "device = 'cpu'\n",
        "network = Net().to(device)\n",
        "optimizer = optim.SGD(network.parameters(), lr=learning_rate)\n"
      ],
      "execution_count": null,
      "outputs": []
    },
    {
      "cell_type": "markdown",
      "metadata": {
        "id": "qgC4PDf38mBU"
      },
      "source": [
        "Iskoristimo našu pripremljenu funkciju za izvođenje eksperimenta:"
      ]
    },
    {
      "cell_type": "code",
      "metadata": {
        "id": "1FSxK8WV8mBU",
        "colab": {
          "base_uri": "https://localhost:8080/",
          "height": 311
        },
        "outputId": "27f34d4d-4cce-4c65-eb82-30e6ed61c866"
      },
      "source": [
        "train_losses, train_counter, test_losses, test_counter, test_accuracy = train_network(network, train_loader, test_loader, device)"
      ],
      "execution_count": null,
      "outputs": [
        {
          "output_type": "error",
          "ename": "RuntimeError",
          "evalue": "ignored",
          "traceback": [
            "\u001b[0;31m---------------------------------------------------------------------------\u001b[0m",
            "\u001b[0;31mRuntimeError\u001b[0m                              Traceback (most recent call last)",
            "\u001b[0;32m<ipython-input-76-5b29208f66ac>\u001b[0m in \u001b[0;36m<module>\u001b[0;34m\u001b[0m\n\u001b[0;32m----> 1\u001b[0;31m \u001b[0mtrain_losses\u001b[0m\u001b[0;34m,\u001b[0m \u001b[0mtrain_counter\u001b[0m\u001b[0;34m,\u001b[0m \u001b[0mtest_losses\u001b[0m\u001b[0;34m,\u001b[0m \u001b[0mtest_counter\u001b[0m\u001b[0;34m,\u001b[0m \u001b[0mtest_accuracy\u001b[0m \u001b[0;34m=\u001b[0m \u001b[0mtrain_network\u001b[0m\u001b[0;34m(\u001b[0m\u001b[0mnetwork\u001b[0m\u001b[0;34m,\u001b[0m \u001b[0mtrain_loader\u001b[0m\u001b[0;34m,\u001b[0m \u001b[0mtest_loader\u001b[0m\u001b[0;34m,\u001b[0m \u001b[0mdevice\u001b[0m\u001b[0;34m)\u001b[0m\u001b[0;34m\u001b[0m\u001b[0;34m\u001b[0m\u001b[0m\n\u001b[0m",
            "\u001b[0;32m<ipython-input-67-f01e9966d7c0>\u001b[0m in \u001b[0;36mtrain_network\u001b[0;34m(network, train_loader, test_loader, device)\u001b[0m\n\u001b[1;32m      7\u001b[0m     \u001b[0;31m# -----\u001b[0m\u001b[0;34m\u001b[0m\u001b[0;34m\u001b[0m\u001b[0;34m\u001b[0m\u001b[0m\n\u001b[1;32m      8\u001b[0m     \u001b[0;31m# Training for the first epoch\u001b[0m\u001b[0;34m\u001b[0m\u001b[0;34m\u001b[0m\u001b[0;34m\u001b[0m\u001b[0m\n\u001b[0;32m----> 9\u001b[0;31m     \u001b[0mnew_train_losses\u001b[0m\u001b[0;34m,\u001b[0m \u001b[0mnew_train_counter\u001b[0m \u001b[0;34m=\u001b[0m \u001b[0mtrain_step\u001b[0m\u001b[0;34m(\u001b[0m\u001b[0mnetwork\u001b[0m\u001b[0;34m,\u001b[0m \u001b[0mtrain_loader\u001b[0m\u001b[0;34m,\u001b[0m \u001b[0;36m1\u001b[0m\u001b[0;34m,\u001b[0m \u001b[0mdevice\u001b[0m\u001b[0;34m)\u001b[0m\u001b[0;34m\u001b[0m\u001b[0;34m\u001b[0m\u001b[0m\n\u001b[0m\u001b[1;32m     10\u001b[0m     \u001b[0mtrain_losses\u001b[0m\u001b[0;34m.\u001b[0m\u001b[0mextend\u001b[0m\u001b[0;34m(\u001b[0m\u001b[0mnew_train_losses\u001b[0m\u001b[0;34m)\u001b[0m\u001b[0;34m\u001b[0m\u001b[0;34m\u001b[0m\u001b[0m\n\u001b[1;32m     11\u001b[0m     \u001b[0mtrain_counter\u001b[0m\u001b[0;34m.\u001b[0m\u001b[0mextend\u001b[0m\u001b[0;34m(\u001b[0m\u001b[0mnew_train_counter\u001b[0m\u001b[0;34m)\u001b[0m\u001b[0;34m\u001b[0m\u001b[0;34m\u001b[0m\u001b[0m\n",
            "\u001b[0;32m<ipython-input-64-d28b065dc39a>\u001b[0m in \u001b[0;36mtrain_step\u001b[0;34m(network, train_loader, epoch, device, verbose)\u001b[0m\n\u001b[1;32m     11\u001b[0m         \u001b[0;31m# -------\u001b[0m\u001b[0;34m\u001b[0m\u001b[0;34m\u001b[0m\u001b[0;34m\u001b[0m\u001b[0m\n\u001b[1;32m     12\u001b[0m          \u001b[0;31m# Forward pass through the network\u001b[0m\u001b[0;34m\u001b[0m\u001b[0;34m\u001b[0m\u001b[0;34m\u001b[0m\u001b[0m\n\u001b[0;32m---> 13\u001b[0;31m         \u001b[0moutput\u001b[0m \u001b[0;34m=\u001b[0m \u001b[0mnetwork\u001b[0m\u001b[0;34m(\u001b[0m\u001b[0mdata\u001b[0m\u001b[0;34m)\u001b[0m\u001b[0;34m\u001b[0m\u001b[0;34m\u001b[0m\u001b[0m\n\u001b[0m\u001b[1;32m     14\u001b[0m \u001b[0;34m\u001b[0m\u001b[0m\n\u001b[1;32m     15\u001b[0m         \u001b[0;31m# Calculating loss\u001b[0m\u001b[0;34m\u001b[0m\u001b[0;34m\u001b[0m\u001b[0;34m\u001b[0m\u001b[0m\n",
            "\u001b[0;32m/usr/local/lib/python3.8/dist-packages/torch/nn/modules/module.py\u001b[0m in \u001b[0;36m_call_impl\u001b[0;34m(self, *input, **kwargs)\u001b[0m\n\u001b[1;32m   1188\u001b[0m         \"\"\"\n\u001b[1;32m   1189\u001b[0m         \u001b[0mmemo\u001b[0m \u001b[0;34m=\u001b[0m \u001b[0mset\u001b[0m\u001b[0;34m(\u001b[0m\u001b[0;34m)\u001b[0m\u001b[0;34m\u001b[0m\u001b[0;34m\u001b[0m\u001b[0m\n\u001b[0;32m-> 1190\u001b[0;31m         \u001b[0;32mfor\u001b[0m \u001b[0mname\u001b[0m\u001b[0;34m,\u001b[0m \u001b[0mmodule\u001b[0m \u001b[0;32min\u001b[0m \u001b[0mself\u001b[0m\u001b[0;34m.\u001b[0m\u001b[0m_modules\u001b[0m\u001b[0;34m.\u001b[0m\u001b[0mitems\u001b[0m\u001b[0;34m(\u001b[0m\u001b[0;34m)\u001b[0m\u001b[0;34m:\u001b[0m\u001b[0;34m\u001b[0m\u001b[0;34m\u001b[0m\u001b[0m\n\u001b[0m\u001b[1;32m   1191\u001b[0m             \u001b[0;32mif\u001b[0m \u001b[0mmodule\u001b[0m \u001b[0;32mis\u001b[0m \u001b[0;32mnot\u001b[0m \u001b[0;32mNone\u001b[0m \u001b[0;32mand\u001b[0m \u001b[0mmodule\u001b[0m \u001b[0;32mnot\u001b[0m \u001b[0;32min\u001b[0m \u001b[0mmemo\u001b[0m\u001b[0;34m:\u001b[0m\u001b[0;34m\u001b[0m\u001b[0;34m\u001b[0m\u001b[0m\n\u001b[1;32m   1192\u001b[0m                 \u001b[0mmemo\u001b[0m\u001b[0;34m.\u001b[0m\u001b[0madd\u001b[0m\u001b[0;34m(\u001b[0m\u001b[0mmodule\u001b[0m\u001b[0;34m)\u001b[0m\u001b[0;34m\u001b[0m\u001b[0;34m\u001b[0m\u001b[0m\n",
            "\u001b[0;32m<ipython-input-74-339af70a6610>\u001b[0m in \u001b[0;36mforward\u001b[0;34m(self, x)\u001b[0m\n\u001b[1;32m     13\u001b[0m         \u001b[0;31m# ----\u001b[0m\u001b[0;34m\u001b[0m\u001b[0;34m\u001b[0m\u001b[0;34m\u001b[0m\u001b[0m\n\u001b[1;32m     14\u001b[0m         \u001b[0mx\u001b[0m \u001b[0;34m=\u001b[0m \u001b[0mself\u001b[0m\u001b[0;34m.\u001b[0m\u001b[0mdropout\u001b[0m\u001b[0;34m(\u001b[0m\u001b[0mx\u001b[0m\u001b[0;34m)\u001b[0m\u001b[0;34m\u001b[0m\u001b[0;34m\u001b[0m\u001b[0m\n\u001b[0;32m---> 15\u001b[0;31m         \u001b[0mx\u001b[0m \u001b[0;34m=\u001b[0m \u001b[0mx\u001b[0m\u001b[0;34m.\u001b[0m\u001b[0mview\u001b[0m\u001b[0;34m(\u001b[0m\u001b[0;34m-\u001b[0m\u001b[0;36m1\u001b[0m\u001b[0;34m,\u001b[0m \u001b[0;36m40\u001b[0m\u001b[0;34m)\u001b[0m\u001b[0;34m\u001b[0m\u001b[0;34m\u001b[0m\u001b[0m\n\u001b[0m\u001b[1;32m     16\u001b[0m         \u001b[0mx\u001b[0m \u001b[0;34m=\u001b[0m \u001b[0mF\u001b[0m\u001b[0;34m.\u001b[0m\u001b[0mrelu\u001b[0m\u001b[0;34m(\u001b[0m\u001b[0mself\u001b[0m\u001b[0;34m.\u001b[0m\u001b[0mfc1\u001b[0m\u001b[0;34m(\u001b[0m\u001b[0mx\u001b[0m\u001b[0;34m)\u001b[0m\u001b[0;34m)\u001b[0m\u001b[0;34m\u001b[0m\u001b[0;34m\u001b[0m\u001b[0m\n\u001b[1;32m     17\u001b[0m         \u001b[0mx\u001b[0m \u001b[0;34m=\u001b[0m \u001b[0mself\u001b[0m\u001b[0;34m.\u001b[0m\u001b[0mfc2\u001b[0m\u001b[0;34m(\u001b[0m\u001b[0mx\u001b[0m\u001b[0;34m)\u001b[0m\u001b[0;34m\u001b[0m\u001b[0;34m\u001b[0m\u001b[0m\n",
            "\u001b[0;31mRuntimeError\u001b[0m: shape '[-1, 40]' is invalid for input of size 294912"
          ]
        }
      ]
    },
    {
      "cell_type": "markdown",
      "metadata": {
        "id": "YnIGh2l88mBU"
      },
      "source": [
        "Spremimo rezultate u mapu `results` kako je navedeno u zadatku. Također nam je potreban broj parametara mreže, što možemo izračunati u ovom koraku."
      ]
    },
    {
      "cell_type": "code",
      "metadata": {
        "id": "4IDqN3iy8mBU",
        "colab": {
          "base_uri": "https://localhost:8080/",
          "height": 200
        },
        "outputId": "c375be5f-19b5-4824-ab9a-c6a30c88641e"
      },
      "source": [
        "number_of_parameters = get_number_of_model_parameters(network)\n",
        "results[f'shallow_and_narrow_{learning_rate}'] = (train_counter, train_losses, test_counter, test_losses, test_accuracy, number_of_parameters)"
      ],
      "execution_count": null,
      "outputs": [
        {
          "output_type": "error",
          "ename": "NameError",
          "evalue": "ignored",
          "traceback": [
            "\u001b[0;31m---------------------------------------------------------------------------\u001b[0m",
            "\u001b[0;31mNameError\u001b[0m                                 Traceback (most recent call last)",
            "\u001b[0;32m<ipython-input-46-255362087355>\u001b[0m in \u001b[0;36m<module>\u001b[0;34m\u001b[0m\n\u001b[1;32m      1\u001b[0m \u001b[0mnumber_of_parameters\u001b[0m \u001b[0;34m=\u001b[0m \u001b[0mget_number_of_model_parameters\u001b[0m\u001b[0;34m(\u001b[0m\u001b[0mnetwork\u001b[0m\u001b[0;34m)\u001b[0m\u001b[0;34m\u001b[0m\u001b[0;34m\u001b[0m\u001b[0m\n\u001b[0;32m----> 2\u001b[0;31m \u001b[0mresults\u001b[0m\u001b[0;34m[\u001b[0m\u001b[0;34mf'short_and_narrow_{learning_rate}'\u001b[0m\u001b[0;34m]\u001b[0m \u001b[0;34m=\u001b[0m \u001b[0;34m(\u001b[0m\u001b[0mtrain_counter\u001b[0m\u001b[0;34m,\u001b[0m \u001b[0mtrain_losses\u001b[0m\u001b[0;34m,\u001b[0m \u001b[0mtest_counter\u001b[0m\u001b[0;34m,\u001b[0m \u001b[0mtest_losses\u001b[0m\u001b[0;34m,\u001b[0m \u001b[0mtest_accuracy\u001b[0m\u001b[0;34m,\u001b[0m \u001b[0mnumber_of_parameters\u001b[0m\u001b[0;34m)\u001b[0m\u001b[0;34m\u001b[0m\u001b[0;34m\u001b[0m\u001b[0m\n\u001b[0m",
            "\u001b[0;31mNameError\u001b[0m: name 'train_counter' is not defined"
          ]
        }
      ]
    },
    {
      "cell_type": "markdown",
      "metadata": {
        "id": "u6vxWgvv8mBV"
      },
      "source": [
        "Prikažimo rezultate za ovaj eksperiment:"
      ]
    },
    {
      "cell_type": "code",
      "metadata": {
        "id": "Y2JnHIGG8mBV",
        "colab": {
          "base_uri": "https://localhost:8080/",
          "height": 287
        },
        "outputId": "3c5d87d4-1e8c-40e6-9ffa-9a6791b1c4d9"
      },
      "source": [
        "fig = plt.figure(figsize=(16, 5))\n",
        "plt.plot(train_counter, train_losses, color='blue', label='Train loss')\n",
        "plt.plot(test_counter, test_losses, color='red',  marker='o', label='Test loss')\n",
        "plt.vlines(test_counter, 0, max(train_losses + test_losses), linestyles='dashed', label='Epoch markers')\n",
        "\n",
        "plt.legend(loc='upper right')\n",
        "plt.xlabel('Number of samples')\n",
        "plt.ylabel('Loss')\n",
        "plt.grid()"
      ],
      "execution_count": null,
      "outputs": [
        {
          "output_type": "error",
          "ename": "NameError",
          "evalue": "ignored",
          "traceback": [
            "\u001b[0;31m---------------------------------------------------------------------------\u001b[0m",
            "\u001b[0;31mNameError\u001b[0m                                 Traceback (most recent call last)",
            "\u001b[0;32m<ipython-input-47-068c3bf94a95>\u001b[0m in \u001b[0;36m<module>\u001b[0;34m\u001b[0m\n\u001b[1;32m      1\u001b[0m \u001b[0mfig\u001b[0m \u001b[0;34m=\u001b[0m \u001b[0mplt\u001b[0m\u001b[0;34m.\u001b[0m\u001b[0mfigure\u001b[0m\u001b[0;34m(\u001b[0m\u001b[0mfigsize\u001b[0m\u001b[0;34m=\u001b[0m\u001b[0;34m(\u001b[0m\u001b[0;36m16\u001b[0m\u001b[0;34m,\u001b[0m \u001b[0;36m5\u001b[0m\u001b[0;34m)\u001b[0m\u001b[0;34m)\u001b[0m\u001b[0;34m\u001b[0m\u001b[0;34m\u001b[0m\u001b[0m\n\u001b[0;32m----> 2\u001b[0;31m \u001b[0mplt\u001b[0m\u001b[0;34m.\u001b[0m\u001b[0mplot\u001b[0m\u001b[0;34m(\u001b[0m\u001b[0mtrain_counter\u001b[0m\u001b[0;34m,\u001b[0m \u001b[0mtrain_losses\u001b[0m\u001b[0;34m,\u001b[0m \u001b[0mcolor\u001b[0m\u001b[0;34m=\u001b[0m\u001b[0;34m'blue'\u001b[0m\u001b[0;34m,\u001b[0m \u001b[0mlabel\u001b[0m\u001b[0;34m=\u001b[0m\u001b[0;34m'Train loss'\u001b[0m\u001b[0;34m)\u001b[0m\u001b[0;34m\u001b[0m\u001b[0;34m\u001b[0m\u001b[0m\n\u001b[0m\u001b[1;32m      3\u001b[0m \u001b[0mplt\u001b[0m\u001b[0;34m.\u001b[0m\u001b[0mplot\u001b[0m\u001b[0;34m(\u001b[0m\u001b[0mtest_counter\u001b[0m\u001b[0;34m,\u001b[0m \u001b[0mtest_losses\u001b[0m\u001b[0;34m,\u001b[0m \u001b[0mcolor\u001b[0m\u001b[0;34m=\u001b[0m\u001b[0;34m'red'\u001b[0m\u001b[0;34m,\u001b[0m  \u001b[0mmarker\u001b[0m\u001b[0;34m=\u001b[0m\u001b[0;34m'o'\u001b[0m\u001b[0;34m,\u001b[0m \u001b[0mlabel\u001b[0m\u001b[0;34m=\u001b[0m\u001b[0;34m'Test loss'\u001b[0m\u001b[0;34m)\u001b[0m\u001b[0;34m\u001b[0m\u001b[0;34m\u001b[0m\u001b[0m\n\u001b[1;32m      4\u001b[0m \u001b[0mplt\u001b[0m\u001b[0;34m.\u001b[0m\u001b[0mvlines\u001b[0m\u001b[0;34m(\u001b[0m\u001b[0mtest_counter\u001b[0m\u001b[0;34m,\u001b[0m \u001b[0;36m0\u001b[0m\u001b[0;34m,\u001b[0m \u001b[0mmax\u001b[0m\u001b[0;34m(\u001b[0m\u001b[0mtrain_losses\u001b[0m \u001b[0;34m+\u001b[0m \u001b[0mtest_losses\u001b[0m\u001b[0;34m)\u001b[0m\u001b[0;34m,\u001b[0m \u001b[0mlinestyles\u001b[0m\u001b[0;34m=\u001b[0m\u001b[0;34m'dashed'\u001b[0m\u001b[0;34m,\u001b[0m \u001b[0mlabel\u001b[0m\u001b[0;34m=\u001b[0m\u001b[0;34m'Epoch markers'\u001b[0m\u001b[0;34m)\u001b[0m\u001b[0;34m\u001b[0m\u001b[0;34m\u001b[0m\u001b[0m\n\u001b[1;32m      5\u001b[0m \u001b[0;34m\u001b[0m\u001b[0m\n",
            "\u001b[0;31mNameError\u001b[0m: name 'train_counter' is not defined"
          ]
        },
        {
          "output_type": "display_data",
          "data": {
            "text/plain": [
              "<Figure size 1152x360 with 0 Axes>"
            ]
          },
          "metadata": {}
        }
      ]
    },
    {
      "cell_type": "markdown",
      "metadata": {
        "id": "9Y3TO-eh8mBV"
      },
      "source": [
        "**Nadopunite bilježnicu sa svim traženim arhitekturama i learning rateovima zadanim u ovom podzadatku.** "
      ]
    },
    {
      "cell_type": "markdown",
      "metadata": {
        "id": "0N73eaQq8mBV"
      },
      "source": [
        "#### Podzadatak g) - Usporedba rezultata\n",
        "\n",
        "Nakon što smo izvršili sve eksperimente potrebno ih je usporediti. Nacrtajte tražene grafove, te pomoću njih odgovorite na pitanja postavljena na Moodleu."
      ]
    },
    {
      "cell_type": "markdown",
      "metadata": {
        "id": "0IWnMHAI8mBV"
      },
      "source": [
        "Nacrtajte graf gdje je X os vrijeme (odgovara na pitanje: koji korak treniranja?), a Y os je loss za **trening** skup podataka."
      ]
    },
    {
      "cell_type": "markdown",
      "metadata": {
        "id": "gfEpetAm8mBW"
      },
      "source": [
        "Odgovorite na sljedeća pitanja:\n",
        "1. Radi li se o konzistentnom padu iz koraka u korak?\n",
        "2. Jesu li neke arhitekture u startu značajno bolje od drugih?\n",
        "3. Koji model je najnestabilniji tijekom treniranja?"
      ]
    },
    {
      "cell_type": "code",
      "metadata": {
        "id": "OyiTfnal8mBW",
        "colab": {
          "base_uri": "https://localhost:8080/",
          "height": 262
        },
        "outputId": "784ba31c-ed5e-4d1e-b9d5-9a10a4e8d00b"
      },
      "source": [
        "plt.figure(figsize=(19, 6))\n",
        "\n",
        "for model_key in results:\n",
        "    train_counter, train_losses, test_counter, test_losses, test_accuracy, number_of_parameters = results[model_key]\n",
        "    plt.plot(train_counter, train_losses, label=model_key)\n",
        "\n",
        "plt.legend()\n",
        "plt.grid()\n",
        "plt.ylabel(\"Train loss\")\n",
        "plt.xlabel(\"Steps\")"
      ],
      "execution_count": null,
      "outputs": [
        {
          "output_type": "stream",
          "name": "stderr",
          "text": [
            "WARNING:matplotlib.legend:No handles with labels found to put in legend.\n"
          ]
        },
        {
          "output_type": "execute_result",
          "data": {
            "text/plain": [
              "Text(0.5, 0, 'Steps')"
            ]
          },
          "metadata": {},
          "execution_count": 48
        },
        {
          "output_type": "display_data",
          "data": {
            "text/plain": [
              "<Figure size 1368x432 with 1 Axes>"
            ],
            "image/png": "[encoded data removed]"
          },
          "metadata": {
            "needs_background": "light"
          }
        }
      ]
    },
    {
      "cell_type": "markdown",
      "metadata": {
        "id": "sjQvS9h18mBX"
      },
      "source": [
        "Nacrtajte graf gdje je X os vrijeme (odgovara na pitanje: koji korak treniranja?), a Y os je loss za **test** skupu podataka."
      ]
    },
    {
      "cell_type": "markdown",
      "metadata": {
        "id": "V1giPvlo8mBX"
      },
      "source": [
        "Odgovorite na sljedeća pitanja:\n",
        "4. Radi li se o konzistentnom padu iz koraka u korak?\n",
        "5. Jesu li neke arhitekture u startu značajno bolje od drugih?"
      ]
    },
    {
      "cell_type": "code",
      "metadata": {
        "id": "P4Uf1TiF8mBX",
        "colab": {
          "base_uri": "https://localhost:8080/",
          "height": 262
        },
        "outputId": "ec3c87ca-398f-4231-c82d-e8b064ec4e24"
      },
      "source": [
        "plt.figure(figsize=(19, 6))\n",
        "\n",
        "for model_key in results:\n",
        "    train_counter, train_losses, test_counter, test_losses, test_accuracy, number_of_parameters = results[model_key]\n",
        "    plt.plot(test_counter, test_losses, label=model_key)\n",
        "\n",
        "plt.legend()\n",
        "plt.grid()\n",
        "plt.xlabel(\"Test accuracy\")\n",
        "plt.ylabel(\"Steps\")"
      ],
      "execution_count": null,
      "outputs": [
        {
          "output_type": "stream",
          "name": "stderr",
          "text": [
            "WARNING:matplotlib.legend:No handles with labels found to put in legend.\n"
          ]
        },
        {
          "output_type": "execute_result",
          "data": {
            "text/plain": [
              "Text(0, 0.5, 'Steps')"
            ]
          },
          "metadata": {},
          "execution_count": 49
        },
        {
          "output_type": "display_data",
          "data": {
            "text/plain": [
              "<Figure size 1368x432 with 1 Axes>"
            ],
            "image/png": "[encoded data removed]"
          },
          "metadata": {
            "needs_background": "light"
          }
        }
      ]
    },
    {
      "cell_type": "markdown",
      "metadata": {
        "id": "rtLhEzai8mBY"
      },
      "source": [
        "Nacrtajte graf (scatter plot) gdje je X os broj parametara modela, a Y os je točnost koju model ostvaruje na test skupu."
      ]
    },
    {
      "cell_type": "markdown",
      "metadata": {
        "id": "chMbNJjk8mBY"
      },
      "source": [
        "Odgovorite na sljedeća pitanja:\n",
        "6. Koji je najbolji model?\n",
        "7. Kakvi su duboki modeli u usporedbu s plitkim modelima?\n",
        "8. Kakvi su široki modeli u usporedbi s uskima?"
      ]
    },
    {
      "cell_type": "code",
      "metadata": {
        "id": "9bPtKsdn8mBY",
        "colab": {
          "base_uri": "https://localhost:8080/",
          "height": 590
        },
        "outputId": "70ce5072-ec93-498e-a93e-377850d9c0d5"
      },
      "source": [
        "plt.figure(figsize=(9, 9))\n",
        "\n",
        "for model_key in results:\n",
        "    train_counter, train_losses, test_counter, test_losses, test_accuracy, number_of_parameters = results[model_key]\n",
        "    plt.scatter(number_of_parameters, test_accuracy, label=model_key, s=256)\n",
        "\n",
        "plt.legend()\n",
        "plt.grid()\n",
        "plt.ylabel(\"Test accuracy\")\n",
        "plt.xlabel(\"Number of parameters\")"
      ],
      "execution_count": null,
      "outputs": [
        {
          "output_type": "stream",
          "name": "stderr",
          "text": [
            "WARNING:matplotlib.legend:No handles with labels found to put in legend.\n"
          ]
        },
        {
          "output_type": "execute_result",
          "data": {
            "text/plain": [
              "Text(0.5, 0, 'Number of parameters')"
            ]
          },
          "metadata": {},
          "execution_count": 50
        },
        {
          "output_type": "display_data",
          "data": {
            "text/plain": [
              "<Figure size 648x648 with 1 Axes>"
            ],
            "image/png": "[encoded data removed]"
          },
          "metadata": {
            "needs_background": "light"
          }
        }
      ]
    },
    {
      "cell_type": "markdown",
      "metadata": {
        "id": "anR2jStp8mBY"
      },
      "source": [
        "#### Podzadatak h) - Evaluacija na neviđenom skupu podataka\n",
        "\n",
        "Preuzmite skup podataka za ocjenjivanje sa sljedeće poveznice: http://zver6.zesoi.fer.hr:18080/labos_oi/submission_z1.zip\n",
        "\n",
        "Primjer filea kojeg treba generirati možete preuzeti sa: http://zver6.zesoi.fer.hr:18080/labos_oi/zad1_submission_sample.csv \n",
        "\n",
        "Odredite predikcije Vašeg najboljeg modela nad tim skupom, te ih stavite na Moodle."
      ]
    },
    {
      "cell_type": "markdown",
      "metadata": {
        "id": "rxTgKs3R8mBY"
      },
      "source": [
        "## Zadatak 2 - Pronalazak znamenki na slici i klasifikacija pronađene znamenke "
      ]
    },
    {
      "cell_type": "markdown",
      "source": [],
      "metadata": {
        "id": "9iGLwJySAe3R"
      }
    },
    {
      "cell_type": "markdown",
      "metadata": {
        "id": "P4bKWIm78mBZ"
      },
      "source": [
        "Drugi zadatak je proširenje naučenog u prvom zadatku. Problem se proširuje - umjesto klasifikacije rukom pisane znamenke, naš problem je sada pronalazak rukom pisane znamenke na slici **i** klasifikacija.\n",
        "\n",
        "Kao i u prethodnoj vježbi, dani su dijeli koda potrebnog za ostvarenje vježbe, a na Vama je da nadopunite dijelove koji nedostaju."
      ]
    },
    {
      "cell_type": "markdown",
      "metadata": {
        "id": "HwZHyOWk8mBZ"
      },
      "source": [
        "#### Skup podataka\n",
        "\n",
        "Da bi mogli trenirati model za klasifikaciju i detekciju objekta na slici, moramo imati odgovarajući dataset. Koristimo postojeći MNIST dataset, a modificiramo ga tako da postavimo originalni MNIST uzorak na slučajnu poziciju na praznoj slici. Sljedeći kod generira takve uzorke, vraćajući modificiranu sliku, oznaku kategorije i poziciju znamenke na slici (*bounding box*)."
      ]
    },
    {
      "cell_type": "code",
      "metadata": {
        "id": "1Xqwk5ze8mBZ"
      },
      "source": [
        "class PositionMNIST(Dataset):\n",
        "    \n",
        "    def __init__(self, image_size=128, transform=None, train_set=False):\n",
        "        self.image_size = image_size\n",
        "        self.transform = transform\n",
        "        \n",
        "        self.set = torchvision.datasets.MNIST('./files/', train=train_set, download=True)\n",
        "        self.position_cache = [-1] * len(self.set)\n",
        "    \n",
        "    def __len__(self):\n",
        "        return len(self.set)\n",
        "\n",
        "    def __getitem__(self, idx):\n",
        "        if self.position_cache[idx] == -1:\n",
        "            x_pos = int(np.random.uniform(0, self.image_size-29))\n",
        "            y_pos = int(np.random.uniform(0, self.image_size-29))\n",
        "            self.position_cache[idx] = (x_pos, y_pos)\n",
        "            \n",
        "        x_pos, y_pos = self.position_cache[idx]\n",
        "        \n",
        "        canvas = np.zeros((self.image_size, self.image_size, 1), dtype=np.uint8)\n",
        "        canvas[y_pos:(y_pos+28), x_pos:(x_pos+28), 0] = self.set[idx][0]\n",
        "        \n",
        "        x_pos = float(x_pos)\n",
        "        y_pos = float(y_pos)\n",
        "        \n",
        "        if self.transform is not None:\n",
        "            canvas = self.transform(canvas)\n",
        "        \n",
        "        return canvas, self.set[idx][1], (x_pos, y_pos, x_pos+28, y_pos+28)"
      ],
      "execution_count": null,
      "outputs": []
    },
    {
      "cell_type": "code",
      "metadata": {
        "id": "dQutnfaT8mBa"
      },
      "source": [
        "batch_size_train = 128\n",
        "batch_size_test = 128\n",
        "image_size = 128\n",
        "\n",
        "train_set = PositionMNIST(train_set=True, image_size=image_size, transform=torchvision.transforms.Compose([torchvision.transforms.ToTensor(),\n",
        "                                                                                    torchvision.transforms.Normalize((0.1307,), (0.3081,))]))\n",
        "\n",
        "test_set = PositionMNIST(train_set=False, image_size=image_size, transform=torchvision.transforms.Compose([torchvision.transforms.ToTensor(),\n",
        "                                                                                    torchvision.transforms.Normalize((0.1307,), (0.3081,))]))"
      ],
      "execution_count": null,
      "outputs": []
    },
    {
      "cell_type": "code",
      "metadata": {
        "id": "4kW-io_C8mBa"
      },
      "source": [
        "train_loader = DataLoader(train_set, batch_size=batch_size_train, shuffle=True)\n",
        "test_loader = DataLoader(test_set, batch_size=batch_size_test, shuffle=True)"
      ],
      "execution_count": null,
      "outputs": []
    },
    {
      "cell_type": "markdown",
      "metadata": {
        "id": "izLrwVgL8mBb"
      },
      "source": [
        "#### Podzadatak a) - Vizualizacija podataka\n",
        "\n",
        "Uzmite jedan uzorak pomoću data loadera i vizualizirajte ga. Neka u titleu piše klasa i lokacija."
      ]
    },
    {
      "cell_type": "code",
      "metadata": {
        "id": "Q8Z3aDgM8mBb",
        "colab": {
          "base_uri": "https://localhost:8080/",
          "height": 284
        },
        "outputId": "e900855e-b0fc-4e52-ab55-4224d0d66581"
      },
      "source": [
        "examples = enumerate(test_loader)\n",
        "batch_idx, (example_data, example_label, example_positions) = next(examples)\n",
        "fig = plt.figure(figsize=(9, 4))\n",
        "for i in range(6):\n",
        "    plt.subplot(2,3,i+1)\n",
        "    plt.tight_layout()\n",
        "    # ----- \n",
        "    plt.imshow(example_data[i][0])\n",
        "    plt.title(f\"{example_label[i]}, {example_positions[0][i]}, {example_positions[1][i]}, {example_positions[2][i]}, {example_positions[3][i]}\")\n",
        "    # -----\n",
        "    plt.xticks([])\n",
        "    plt.yticks([])\n"
      ],
      "execution_count": null,
      "outputs": [
        {
          "output_type": "display_data",
          "data": {
            "text/plain": [
              "<Figure size 648x288 with 6 Axes>"
            ],
            "image/png": "[encoded data removed]"
          },
          "metadata": {}
        }
      ]
    },
    {
      "cell_type": "markdown",
      "metadata": {
        "id": "9KcHmrq78mBb"
      },
      "source": [
        "#### Podzadatak b) - Pomoćne funkcije za treniranje\n",
        "\n",
        "Nadopunite pomoćne funkcije za treniranje neuronskih mreža po principu naučenom u 1. zadatku. Temeljna razlika između pomoćne funkcije iz prethodnog zadatke i pomoćne funkcije u ovom zadatku je:\n",
        "\n",
        "1. Rukovanje s podacima (ovdje ih ima više)\n",
        "2. Drugi problem rješavamo, stoga trebamo drugačiju loss funkciju.\n",
        "\n",
        "Loss funkcija će se u ovom slučaju sastojati od dva dijela - loss za klasifikaciju s kojim smo se već upoznali, i prosječan kvadrat greške (*mean squared error*) za određivanje pozicije. Loss će se računa kao:\n",
        "\n",
        "$ \\mathcal{L} = \\text{NLLLoss}(\\text{classification output}, \\text{target)} + \\frac{(x_1 - \\hat{x}_1)^2 + (y_1 - \\hat{y}_1)^2 + (x_2 - \\hat{x}_2)^2 + (y_2 - \\hat{y}_2)^2}{128 \\cdot 128}  $\n",
        "\n",
        "Pri čemu su $x$ i $y$ točne pozicije objekta na slici, a $\\hat{x}$ i $\\hat{y}$ su modelom određene pozicije objekta.\n"
      ]
    },
    {
      "cell_type": "code",
      "metadata": {
        "id": "8WUQaQaI8mBb"
      },
      "source": [
        "def train_step(train_loader, epoch, device, verbose=True):\n",
        "    train_losses = []\n",
        "    train_counter = []\n",
        "    \n",
        "    network.train()\n",
        "    \n",
        "    for batch_idx, (data, target, position) in enumerate(train_loader):\n",
        "        data = data.to(device)\n",
        "        target = target.to(device)\n",
        "        \n",
        "        # ----- \n",
        "        optimizer.zero_grad()\n",
        "        output = network(data)\n",
        "        class_loss = classification_loss(output, target)\n",
        "        position_loss = position_loss_fn(output, position)\n",
        "        loss = class_loss + position_loss\n",
        "        loss.backward()\n",
        "        optimizer.step()\n",
        "        # -------\n",
        "        \n",
        "        if batch_idx % log_interval == 0:\n",
        "            if verbose:\n",
        "                print('Train Epoch: {:5d} [{:5d}/{:5d} ({:2.0f}%)]\\tLoss: {:.6f}'.format(\n",
        "                    epoch, \n",
        "                    batch_idx * len(data), \n",
        "                    len(train_loader.dataset),\n",
        "                    100. * batch_idx / len(train_loader), \n",
        "                    loss.item()))\n",
        "                \n",
        "            train_losses.append(loss.item())\n",
        "            train_counter.append((batch_idx*64) + ((epoch-1)*len(train_loader.dataset)))\n",
        "            \n",
        "    return train_losses, train_counter"
      ],
      "execution_count": null,
      "outputs": []
    },
    {
      "cell_type": "markdown",
      "metadata": {
        "id": "3MF8Pn8l8mBc"
      },
      "source": [
        "Po istom principu iz 1. zadatka nadopunite funkciju za evaluaciju modela. U ovom slučaju mjerimo 3 stvari: sam loss, točnost klasifikacije i posebno loss za detekciju."
      ]
    },
    {
      "cell_type": "code",
      "metadata": {
        "id": "BYjqEjj78mBc"
      },
      "source": [
        "def test(test_loader, device, verbose=True):\n",
        "    network.eval()\n",
        "    \n",
        "    test_loss_clsf = 0\n",
        "    test_loss_bbox = 0\n",
        "    correct = 0\n",
        "    with torch.no_grad():\n",
        "        for data, target, position in test_loader:\n",
        "            data = data.to(device)\n",
        "            target = target.to(device)\n",
        "\n",
        "            # ---- \n",
        "            position = position.to(device)\n",
        "            output, classification_output, position_output = network(data)\n",
        "            test_loss += F.nll_loss(output, target, reduction='sum').item() # sum up batch loss\n",
        "            position_loss += F.mse_loss(position_output, position, reduction='sum').item()\n",
        "            pred = classification_output.argmax(dim=1, keepdim=True) # get the index of the max log-probability\n",
        "            correct += pred.eq(target.view_as(pred)).sum().item()\n",
        "            # ----------\n",
        "            \n",
        "    test_loss_clsf /= len(test_loader.dataset)\n",
        "    test_loss_bbox /= len(test_loader.dataset)\n",
        "    test_accuracy = 100. * correct / len(test_loader.dataset)\n",
        "    \n",
        "    \n",
        "    if verbose:\n",
        "        print('\\n[Test] Classification: Avg. loss: {:.4f}, Accuracy: {:5d}/{:5d} ({:2.2f}%) | Object detection: Avg. loss: {:.4f}\\n'.format(\n",
        "            test_loss_clsf, \n",
        "            correct, \n",
        "            len(test_loader.dataset),\n",
        "            100. * correct / len(test_loader.dataset), \n",
        "            test_loss_bbox))\n",
        "    \n",
        "    return test_loss_clsf, test_accuracy, correct, test_loss_bbox"
      ],
      "execution_count": null,
      "outputs": []
    },
    {
      "cell_type": "markdown",
      "metadata": {
        "id": "Chd5JfTj8mBc"
      },
      "source": [
        "Pomoćna funkcija za provođene eksperimenata iz prethodnog zadatka je iskoristiva do na praćenje dodatnih metrika. Proširite tu funkciju za ovaj zadatak."
      ]
    },
    {
      "cell_type": "code",
      "metadata": {
        "id": "ffmaJJ6-8mBc"
      },
      "source": [
        "def train_network(network, train_loader, test_loader, device='cpu'):\n",
        "    train_losses = []\n",
        "    train_counter = []\n",
        "    test_losses_clsf = []\n",
        "    test_accuracies = []\n",
        "    test_losses_bbox = []\n",
        "    test_counter = [i*len(train_loader.dataset) for i in range(n_epochs + 1)]\n",
        "\n",
        "    # -----\n",
        "    \n",
        "    # ----------\n",
        "\n",
        "    for epoch in range(1, n_epochs + 1):\n",
        "        # ---------\n",
        "        \n",
        "        # ---------\n",
        "        \n",
        "    # --------- \n",
        "    test_losses_total =\n",
        "    # -----------\n",
        "    \n",
        "    return train_losses, train_counter, test_losses_clsf, test_accuracies, test_losses_bbox, test_counter"
      ],
      "execution_count": null,
      "outputs": []
    },
    {
      "cell_type": "markdown",
      "metadata": {
        "id": "752yh1Zy8mBc"
      },
      "source": [
        "## Provođenje eksperimenata i analiza rezultata"
      ]
    },
    {
      "cell_type": "markdown",
      "metadata": {
        "id": "SZeBa8sM8mBd"
      },
      "source": [
        "#### Podzadatak c) - Izrada modela koji točno klasificira i locira objekt na slici"
      ]
    },
    {
      "cell_type": "markdown",
      "metadata": {
        "id": "MBIdYjC_8mBd"
      },
      "source": [
        "Kao i u prethodnom zadatku, prvo je potrebno podesiti parametre. Parametri su isti, no ponovimo:\n",
        "* n_epochs - broj epoha eksperimenta\n",
        "* learning_rate - stopa učenja\n",
        "* log_interval - broj koraka između dva ispisa tijekom treniranja (ispis se dešava samo ako se funkcija poziva s argumentom verbose=True)\n",
        "* device - oznaka na kojem se uređaju izvršava eksperiment; \"cuda\" za GPU, \"cpu\" za CPU"
      ]
    },
    {
      "cell_type": "code",
      "metadata": {
        "id": "PHx75b4o8mBe"
      },
      "source": [
        "n_epochs = 3\n",
        "learning_rate = 0.0005\n",
        "momentum = 0.9\n",
        "log_interval = 100\n",
        "device = 'cuda'"
      ],
      "execution_count": null,
      "outputs": []
    },
    {
      "cell_type": "markdown",
      "metadata": {
        "id": "qUCpikHW8mBe"
      },
      "source": [
        "Temeljna razlika u arhitekturi modela ovog zadatka i arhitekture modela iz prethodnog zadatka je broj izlaza. Prošla neuronska mreža je imala 10 izlaznih neurona - svaki za jednu klasu. Ova neuronska mreža ima 14 izlaza - 10 za svaku klasu za klasifikacijski problem i 4 za svaku koordinatu rezultirajućeg bounding boxa objekta.\n",
        "\n",
        "Na temelju iskustva iz 1. zadatka, nadopunite sljedeći model da bi riješili problem:"
      ]
    },
    {
      "cell_type": "code",
      "metadata": {
        "id": "U1UHYk5I8mBe"
      },
      "source": [
        "class Net(nn.Module):\n",
        "    def __init__(self, image_size):\n",
        "        super(Net, self).__init__()\n",
        "        self.image_size = image_size\n",
        "        \n",
        "        # --------\n",
        "        # Ovdje je dan primjer jednog ulaznog conv sloja i oblika izlaznih slojeva za orijentaciju\n",
        "        \n",
        "        self.conv1 = nn.Conv2d(1, 64, kernel_size=3)\n",
        "        \n",
        "        self.obj_x1_out = nn.Linear(1, 1)\n",
        "        self.obj_y1_out = nn.Linear(1, 1)\n",
        "        self.obj_x2_out = nn.Linear(1, 1)\n",
        "        self.obj_y2_out = nn.Linear(1, 1)\n",
        "        # --------\n",
        "\n",
        "    def forward(self, x):\n",
        "        # ---- ovdje nadopunite ostatak mreže\n",
        "        \n",
        "        \n",
        "        # -------- izlaz za klasifikaciju\n",
        "        clsf = F.log_softmax(x, dim=1)\n",
        "\n",
        "        # -------- izlaz za detekciju\n",
        "        x1 = F.relu(self.obj_x1_out(x1))\n",
        "        y1 = F.relu(self.obj_y1_out(y1))\n",
        "        x2 = F.relu(self.obj_x2_out(x2))\n",
        "        y2 = F.relu(self.obj_y2_out(y2))\n",
        "        \n",
        "        return clsf, x1.squeeze(), y1.squeeze(), x2.squeeze(), y2.squeeze()"
      ],
      "execution_count": null,
      "outputs": []
    },
    {
      "cell_type": "code",
      "metadata": {
        "id": "WBPkKzf08mBg"
      },
      "source": [
        "number_of_params = get_number_of_model_parameters(network)\n",
        "print(\"Broj parametara u modelu:\", number_of_params)"
      ],
      "execution_count": null,
      "outputs": []
    },
    {
      "cell_type": "code",
      "metadata": {
        "id": "iTj1SQ0l8mBg"
      },
      "source": [
        "network = Net(image_size).to(device)\n",
        "optimizer = optim.Adam(network.parameters(), lr=learning_rate)"
      ],
      "execution_count": null,
      "outputs": []
    },
    {
      "cell_type": "code",
      "metadata": {
        "id": "zHadg7188mBg"
      },
      "source": [
        "train_losses, train_counter, test_losses_clsf, test_accuracies, test_losses_bbox, test_counter = train_network(network, train_loader, test_loader, device)"
      ],
      "execution_count": null,
      "outputs": []
    },
    {
      "cell_type": "markdown",
      "metadata": {
        "id": "ty08zU4j8mBg"
      },
      "source": [
        "**Vizualizacija metrika uspješnosti**"
      ]
    },
    {
      "cell_type": "markdown",
      "metadata": {
        "id": "EfAB-KQ58mBg"
      },
      "source": [
        "Vizualizirajte si sve metrike na sljedećem grafu: train_losses, test_losses_total, test_losses_clsf i test_losses_bbox. Pripazite što vam je na x osi!"
      ]
    },
    {
      "cell_type": "code",
      "metadata": {
        "id": "amyVEs9X8mBg"
      },
      "source": [
        "test_losses_total = np.array(test_losses_clsf) + np.array(test_losses_bbox)\n",
        "\n",
        "fig = plt.figure(figsize=(32, 7))\n",
        "# ---- \n",
        "\n",
        "# ----------\n",
        "\n",
        "plt.legend(loc='upper right')\n",
        "plt.xlabel('Number of samples')\n",
        "plt.ylabel('Loss')\n",
        "plt.grid()"
      ],
      "execution_count": null,
      "outputs": []
    },
    {
      "cell_type": "markdown",
      "metadata": {
        "id": "DZz1rci68mBg"
      },
      "source": [
        "#### Vizualni pregled - što model estimira?"
      ]
    },
    {
      "cell_type": "markdown",
      "metadata": {
        "id": "5A5BzuzF8mBh"
      },
      "source": [
        "Iskorisite sljedeći kod da bi vidjeli kako izgledaju predikcije Vašeg modela."
      ]
    },
    {
      "cell_type": "code",
      "metadata": {
        "id": "Z56nnWF58mBh"
      },
      "source": [
        "with torch.no_grad():\n",
        "    clsf_out, x1_out, y1_out, x2_out, y2_out = network(example_data.to(device))\n",
        "\n",
        "plt.figure(figsize=(32, 32))\n",
        "for idx in range(0, example_data.shape[0]):\n",
        "    image = np.array(example_data[idx, 0, ...]).copy()\n",
        "\n",
        "    x1, y1, x2, y2 = list(map(lambda x: int(x.item()), [x1_out[idx, ...], y1_out[idx, ...], x2_out[idx, ...], y2_out[idx, ...]]))\n",
        "    image = cv2.rectangle(image, (x1, y1), (x2, y2), (2.5), 2)\n",
        "\n",
        "    plt.subplot(12, 12, idx+1)\n",
        "    plt.imshow(image)\n",
        "    plt.title(np.argmax(clsf_out[idx, ...].cpu()))\n",
        "    plt.xticks([])\n",
        "    plt.yticks([])"
      ],
      "execution_count": null,
      "outputs": []
    },
    {
      "cell_type": "markdown",
      "metadata": {
        "id": "EevkWCQb8mBh"
      },
      "source": [
        "#### Podzadatak d) - Evaluacija na neviđenom skupu podataka\n",
        "\n",
        "Preuzmite skup podataka za ocjenjivanje sa sljedeće poveznice: http://zver6.zesoi.fer.hr:18080/labos_oi/submission_z2.zip\n",
        "\n",
        "Primjer filea kojeg treba generirati možete preuzeti sa: http://zver6.zesoi.fer.hr:18080/labos_oi/zad2_submission_sample.csv \n",
        "\n",
        "Odredite predikcije Vašeg najboljeg modela nad tim skupom, te ih stavite na Moodle."
      ]
    }
  ]
}